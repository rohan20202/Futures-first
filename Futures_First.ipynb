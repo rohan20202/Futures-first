{
  "nbformat": 4,
  "nbformat_minor": 0,
  "metadata": {
    "colab": {
      "provenance": [],
      "authorship_tag": "ABX9TyOpEvO4w6nCh1mvceJPn8Wr",
      "include_colab_link": true
    },
    "kernelspec": {
      "name": "python3",
      "display_name": "Python 3"
    },
    "language_info": {
      "name": "python"
    }
  },
  "cells": [
    {
      "cell_type": "markdown",
      "metadata": {
        "id": "view-in-github",
        "colab_type": "text"
      },
      "source": [
        "<a href=\"https://colab.research.google.com/github/rohan20202/Futures-first/blob/main/Futures_First.ipynb\" target=\"_parent\"><img src=\"https://colab.research.google.com/assets/colab-badge.svg\" alt=\"Open In Colab\"/></a>"
      ]
    },
    {
      "cell_type": "code",
      "execution_count": 1,
      "metadata": {
        "id": "zJ_vRKHn08gN"
      },
      "outputs": [],
      "source": [
        "#loading the libraries\n",
        "import pandas as pd                 #Extensively used to load and wrangle with the dataset.\n",
        "import numpy as np                  #For some math operations in predictions\n",
        "import matplotlib.pyplot as plt     #Used for visualization.\n",
        "import missingno as mno             #install  pip install missingno\n",
        "from datetime import date           #Used for analysing the date variable\n",
        "import datetime as dt"
      ]
    },
    {
      "cell_type": "code",
      "source": [
        "#connecting to the google drive\n",
        "from google.colab import drive \n",
        "drive.mount (\"/content/drive\")"
      ],
      "metadata": {
        "colab": {
          "base_uri": "https://localhost:8080/"
        },
        "id": "WFVbfYfg1Quc",
        "outputId": "bf9e117b-a2f4-4374-b082-006f0c178999"
      },
      "execution_count": 2,
      "outputs": [
        {
          "output_type": "stream",
          "name": "stdout",
          "text": [
            "Drive already mounted at /content/drive; to attempt to forcibly remount, call drive.mount(\"/content/drive\", force_remount=True).\n"
          ]
        }
      ]
    },
    {
      "cell_type": "code",
      "source": [
        "df = pd.read_csv(\"/content/drive/MyDrive/Futures First/German 10 YR Bund Futures Historical Data.csv\")"
      ],
      "metadata": {
        "id": "nmB_0fse1bv_"
      },
      "execution_count": 3,
      "outputs": []
    },
    {
      "cell_type": "code",
      "source": [
        "df.head()"
      ],
      "metadata": {
        "colab": {
          "base_uri": "https://localhost:8080/",
          "height": 206
        },
        "id": "4fupcxiP2Axr",
        "outputId": "bebaeb56-9859-4a0a-92e6-af0a4665b487"
      },
      "execution_count": 4,
      "outputs": [
        {
          "output_type": "execute_result",
          "data": {
            "text/plain": [
              "       Date   Price    Open    High     Low     Vol. Change %\n",
              "0  2-Jan-18  161.28  161.78  161.78  161.18  485.60K   -0.25%\n",
              "1  3-Jan-18  161.58  161.26  161.82  161.20  604.24K    0.19%\n",
              "2  4-Jan-18  161.59  161.44  161.75  161.26  640.61K    0.01%\n",
              "3  5-Jan-18  161.59  161.70  161.87  161.50  467.09K    0.00%\n",
              "4  8-Jan-18  161.80  161.64  162.04  161.39  454.69K    0.13%"
            ],
            "text/html": [
              "\n",
              "  <div id=\"df-894dfe77-9ae5-4436-bc66-407982792443\">\n",
              "    <div class=\"colab-df-container\">\n",
              "      <div>\n",
              "<style scoped>\n",
              "    .dataframe tbody tr th:only-of-type {\n",
              "        vertical-align: middle;\n",
              "    }\n",
              "\n",
              "    .dataframe tbody tr th {\n",
              "        vertical-align: top;\n",
              "    }\n",
              "\n",
              "    .dataframe thead th {\n",
              "        text-align: right;\n",
              "    }\n",
              "</style>\n",
              "<table border=\"1\" class=\"dataframe\">\n",
              "  <thead>\n",
              "    <tr style=\"text-align: right;\">\n",
              "      <th></th>\n",
              "      <th>Date</th>\n",
              "      <th>Price</th>\n",
              "      <th>Open</th>\n",
              "      <th>High</th>\n",
              "      <th>Low</th>\n",
              "      <th>Vol.</th>\n",
              "      <th>Change %</th>\n",
              "    </tr>\n",
              "  </thead>\n",
              "  <tbody>\n",
              "    <tr>\n",
              "      <th>0</th>\n",
              "      <td>2-Jan-18</td>\n",
              "      <td>161.28</td>\n",
              "      <td>161.78</td>\n",
              "      <td>161.78</td>\n",
              "      <td>161.18</td>\n",
              "      <td>485.60K</td>\n",
              "      <td>-0.25%</td>\n",
              "    </tr>\n",
              "    <tr>\n",
              "      <th>1</th>\n",
              "      <td>3-Jan-18</td>\n",
              "      <td>161.58</td>\n",
              "      <td>161.26</td>\n",
              "      <td>161.82</td>\n",
              "      <td>161.20</td>\n",
              "      <td>604.24K</td>\n",
              "      <td>0.19%</td>\n",
              "    </tr>\n",
              "    <tr>\n",
              "      <th>2</th>\n",
              "      <td>4-Jan-18</td>\n",
              "      <td>161.59</td>\n",
              "      <td>161.44</td>\n",
              "      <td>161.75</td>\n",
              "      <td>161.26</td>\n",
              "      <td>640.61K</td>\n",
              "      <td>0.01%</td>\n",
              "    </tr>\n",
              "    <tr>\n",
              "      <th>3</th>\n",
              "      <td>5-Jan-18</td>\n",
              "      <td>161.59</td>\n",
              "      <td>161.70</td>\n",
              "      <td>161.87</td>\n",
              "      <td>161.50</td>\n",
              "      <td>467.09K</td>\n",
              "      <td>0.00%</td>\n",
              "    </tr>\n",
              "    <tr>\n",
              "      <th>4</th>\n",
              "      <td>8-Jan-18</td>\n",
              "      <td>161.80</td>\n",
              "      <td>161.64</td>\n",
              "      <td>162.04</td>\n",
              "      <td>161.39</td>\n",
              "      <td>454.69K</td>\n",
              "      <td>0.13%</td>\n",
              "    </tr>\n",
              "  </tbody>\n",
              "</table>\n",
              "</div>\n",
              "      <button class=\"colab-df-convert\" onclick=\"convertToInteractive('df-894dfe77-9ae5-4436-bc66-407982792443')\"\n",
              "              title=\"Convert this dataframe to an interactive table.\"\n",
              "              style=\"display:none;\">\n",
              "        \n",
              "  <svg xmlns=\"http://www.w3.org/2000/svg\" height=\"24px\"viewBox=\"0 0 24 24\"\n",
              "       width=\"24px\">\n",
              "    <path d=\"M0 0h24v24H0V0z\" fill=\"none\"/>\n",
              "    <path d=\"M18.56 5.44l.94 2.06.94-2.06 2.06-.94-2.06-.94-.94-2.06-.94 2.06-2.06.94zm-11 1L8.5 8.5l.94-2.06 2.06-.94-2.06-.94L8.5 2.5l-.94 2.06-2.06.94zm10 10l.94 2.06.94-2.06 2.06-.94-2.06-.94-.94-2.06-.94 2.06-2.06.94z\"/><path d=\"M17.41 7.96l-1.37-1.37c-.4-.4-.92-.59-1.43-.59-.52 0-1.04.2-1.43.59L10.3 9.45l-7.72 7.72c-.78.78-.78 2.05 0 2.83L4 21.41c.39.39.9.59 1.41.59.51 0 1.02-.2 1.41-.59l7.78-7.78 2.81-2.81c.8-.78.8-2.07 0-2.86zM5.41 20L4 18.59l7.72-7.72 1.47 1.35L5.41 20z\"/>\n",
              "  </svg>\n",
              "      </button>\n",
              "      \n",
              "  <style>\n",
              "    .colab-df-container {\n",
              "      display:flex;\n",
              "      flex-wrap:wrap;\n",
              "      gap: 12px;\n",
              "    }\n",
              "\n",
              "    .colab-df-convert {\n",
              "      background-color: #E8F0FE;\n",
              "      border: none;\n",
              "      border-radius: 50%;\n",
              "      cursor: pointer;\n",
              "      display: none;\n",
              "      fill: #1967D2;\n",
              "      height: 32px;\n",
              "      padding: 0 0 0 0;\n",
              "      width: 32px;\n",
              "    }\n",
              "\n",
              "    .colab-df-convert:hover {\n",
              "      background-color: #E2EBFA;\n",
              "      box-shadow: 0px 1px 2px rgba(60, 64, 67, 0.3), 0px 1px 3px 1px rgba(60, 64, 67, 0.15);\n",
              "      fill: #174EA6;\n",
              "    }\n",
              "\n",
              "    [theme=dark] .colab-df-convert {\n",
              "      background-color: #3B4455;\n",
              "      fill: #D2E3FC;\n",
              "    }\n",
              "\n",
              "    [theme=dark] .colab-df-convert:hover {\n",
              "      background-color: #434B5C;\n",
              "      box-shadow: 0px 1px 3px 1px rgba(0, 0, 0, 0.15);\n",
              "      filter: drop-shadow(0px 1px 2px rgba(0, 0, 0, 0.3));\n",
              "      fill: #FFFFFF;\n",
              "    }\n",
              "  </style>\n",
              "\n",
              "      <script>\n",
              "        const buttonEl =\n",
              "          document.querySelector('#df-894dfe77-9ae5-4436-bc66-407982792443 button.colab-df-convert');\n",
              "        buttonEl.style.display =\n",
              "          google.colab.kernel.accessAllowed ? 'block' : 'none';\n",
              "\n",
              "        async function convertToInteractive(key) {\n",
              "          const element = document.querySelector('#df-894dfe77-9ae5-4436-bc66-407982792443');\n",
              "          const dataTable =\n",
              "            await google.colab.kernel.invokeFunction('convertToInteractive',\n",
              "                                                     [key], {});\n",
              "          if (!dataTable) return;\n",
              "\n",
              "          const docLinkHtml = 'Like what you see? Visit the ' +\n",
              "            '<a target=\"_blank\" href=https://colab.research.google.com/notebooks/data_table.ipynb>data table notebook</a>'\n",
              "            + ' to learn more about interactive tables.';\n",
              "          element.innerHTML = '';\n",
              "          dataTable['output_type'] = 'display_data';\n",
              "          await google.colab.output.renderOutput(dataTable, element);\n",
              "          const docLink = document.createElement('div');\n",
              "          docLink.innerHTML = docLinkHtml;\n",
              "          element.appendChild(docLink);\n",
              "        }\n",
              "      </script>\n",
              "    </div>\n",
              "  </div>\n",
              "  "
            ]
          },
          "metadata": {},
          "execution_count": 4
        }
      ]
    },
    {
      "cell_type": "code",
      "source": [
        "pd.DataFrame(df.isna().sum(),columns=['records missings']).T"
      ],
      "metadata": {
        "colab": {
          "base_uri": "https://localhost:8080/",
          "height": 81
        },
        "id": "PC4xaO1j2JmX",
        "outputId": "7574dc29-96eb-4803-8a73-81b63f09ae58"
      },
      "execution_count": 5,
      "outputs": [
        {
          "output_type": "execute_result",
          "data": {
            "text/plain": [
              "                  Date  Price  Open  High  Low  Vol.  Change %\n",
              "records missings     0      0     0     0    0     0         0"
            ],
            "text/html": [
              "\n",
              "  <div id=\"df-f054cb40-ca40-4584-a293-8ddb88f14ef3\">\n",
              "    <div class=\"colab-df-container\">\n",
              "      <div>\n",
              "<style scoped>\n",
              "    .dataframe tbody tr th:only-of-type {\n",
              "        vertical-align: middle;\n",
              "    }\n",
              "\n",
              "    .dataframe tbody tr th {\n",
              "        vertical-align: top;\n",
              "    }\n",
              "\n",
              "    .dataframe thead th {\n",
              "        text-align: right;\n",
              "    }\n",
              "</style>\n",
              "<table border=\"1\" class=\"dataframe\">\n",
              "  <thead>\n",
              "    <tr style=\"text-align: right;\">\n",
              "      <th></th>\n",
              "      <th>Date</th>\n",
              "      <th>Price</th>\n",
              "      <th>Open</th>\n",
              "      <th>High</th>\n",
              "      <th>Low</th>\n",
              "      <th>Vol.</th>\n",
              "      <th>Change %</th>\n",
              "    </tr>\n",
              "  </thead>\n",
              "  <tbody>\n",
              "    <tr>\n",
              "      <th>records missings</th>\n",
              "      <td>0</td>\n",
              "      <td>0</td>\n",
              "      <td>0</td>\n",
              "      <td>0</td>\n",
              "      <td>0</td>\n",
              "      <td>0</td>\n",
              "      <td>0</td>\n",
              "    </tr>\n",
              "  </tbody>\n",
              "</table>\n",
              "</div>\n",
              "      <button class=\"colab-df-convert\" onclick=\"convertToInteractive('df-f054cb40-ca40-4584-a293-8ddb88f14ef3')\"\n",
              "              title=\"Convert this dataframe to an interactive table.\"\n",
              "              style=\"display:none;\">\n",
              "        \n",
              "  <svg xmlns=\"http://www.w3.org/2000/svg\" height=\"24px\"viewBox=\"0 0 24 24\"\n",
              "       width=\"24px\">\n",
              "    <path d=\"M0 0h24v24H0V0z\" fill=\"none\"/>\n",
              "    <path d=\"M18.56 5.44l.94 2.06.94-2.06 2.06-.94-2.06-.94-.94-2.06-.94 2.06-2.06.94zm-11 1L8.5 8.5l.94-2.06 2.06-.94-2.06-.94L8.5 2.5l-.94 2.06-2.06.94zm10 10l.94 2.06.94-2.06 2.06-.94-2.06-.94-.94-2.06-.94 2.06-2.06.94z\"/><path d=\"M17.41 7.96l-1.37-1.37c-.4-.4-.92-.59-1.43-.59-.52 0-1.04.2-1.43.59L10.3 9.45l-7.72 7.72c-.78.78-.78 2.05 0 2.83L4 21.41c.39.39.9.59 1.41.59.51 0 1.02-.2 1.41-.59l7.78-7.78 2.81-2.81c.8-.78.8-2.07 0-2.86zM5.41 20L4 18.59l7.72-7.72 1.47 1.35L5.41 20z\"/>\n",
              "  </svg>\n",
              "      </button>\n",
              "      \n",
              "  <style>\n",
              "    .colab-df-container {\n",
              "      display:flex;\n",
              "      flex-wrap:wrap;\n",
              "      gap: 12px;\n",
              "    }\n",
              "\n",
              "    .colab-df-convert {\n",
              "      background-color: #E8F0FE;\n",
              "      border: none;\n",
              "      border-radius: 50%;\n",
              "      cursor: pointer;\n",
              "      display: none;\n",
              "      fill: #1967D2;\n",
              "      height: 32px;\n",
              "      padding: 0 0 0 0;\n",
              "      width: 32px;\n",
              "    }\n",
              "\n",
              "    .colab-df-convert:hover {\n",
              "      background-color: #E2EBFA;\n",
              "      box-shadow: 0px 1px 2px rgba(60, 64, 67, 0.3), 0px 1px 3px 1px rgba(60, 64, 67, 0.15);\n",
              "      fill: #174EA6;\n",
              "    }\n",
              "\n",
              "    [theme=dark] .colab-df-convert {\n",
              "      background-color: #3B4455;\n",
              "      fill: #D2E3FC;\n",
              "    }\n",
              "\n",
              "    [theme=dark] .colab-df-convert:hover {\n",
              "      background-color: #434B5C;\n",
              "      box-shadow: 0px 1px 3px 1px rgba(0, 0, 0, 0.15);\n",
              "      filter: drop-shadow(0px 1px 2px rgba(0, 0, 0, 0.3));\n",
              "      fill: #FFFFFF;\n",
              "    }\n",
              "  </style>\n",
              "\n",
              "      <script>\n",
              "        const buttonEl =\n",
              "          document.querySelector('#df-f054cb40-ca40-4584-a293-8ddb88f14ef3 button.colab-df-convert');\n",
              "        buttonEl.style.display =\n",
              "          google.colab.kernel.accessAllowed ? 'block' : 'none';\n",
              "\n",
              "        async function convertToInteractive(key) {\n",
              "          const element = document.querySelector('#df-f054cb40-ca40-4584-a293-8ddb88f14ef3');\n",
              "          const dataTable =\n",
              "            await google.colab.kernel.invokeFunction('convertToInteractive',\n",
              "                                                     [key], {});\n",
              "          if (!dataTable) return;\n",
              "\n",
              "          const docLinkHtml = 'Like what you see? Visit the ' +\n",
              "            '<a target=\"_blank\" href=https://colab.research.google.com/notebooks/data_table.ipynb>data table notebook</a>'\n",
              "            + ' to learn more about interactive tables.';\n",
              "          element.innerHTML = '';\n",
              "          dataTable['output_type'] = 'display_data';\n",
              "          await google.colab.output.renderOutput(dataTable, element);\n",
              "          const docLink = document.createElement('div');\n",
              "          docLink.innerHTML = docLinkHtml;\n",
              "          element.appendChild(docLink);\n",
              "        }\n",
              "      </script>\n",
              "    </div>\n",
              "  </div>\n",
              "  "
            ]
          },
          "metadata": {},
          "execution_count": 5
        }
      ]
    },
    {
      "cell_type": "code",
      "source": [
        "#checking for nan values\n",
        "mno.matrix(df,figsize=(12,7))"
      ],
      "metadata": {
        "colab": {
          "base_uri": "https://localhost:8080/",
          "height": 515
        },
        "id": "KwMnP8Db20n7",
        "outputId": "25d134fc-2bca-4130-fdbe-2109ef62e0a4"
      },
      "execution_count": 6,
      "outputs": [
        {
          "output_type": "execute_result",
          "data": {
            "text/plain": [
              "<matplotlib.axes._subplots.AxesSubplot at 0x7fe441125490>"
            ]
          },
          "metadata": {},
          "execution_count": 6
        },
        {
          "output_type": "display_data",
          "data": {
            "text/plain": [
              "<Figure size 864x504 with 2 Axes>"
            ],
            "image/png": "[encoded data removed]"
          },
          "metadata": {
            "needs_background": "light"
          }
        }
      ]
    },
    {
      "cell_type": "markdown",
      "source": [
        "**Task 1: Move the 'Price' column after the 'Low' column.**"
      ],
      "metadata": {
        "id": "5eWW8nsSJKHu"
      }
    },
    {
      "cell_type": "code",
      "source": [
        "df=df[['Date','Open','High','Low','Price','Vol.','Change %']]"
      ],
      "metadata": {
        "id": "0V2YqSQ225Fg"
      },
      "execution_count": 7,
      "outputs": []
    },
    {
      "cell_type": "markdown",
      "source": [
        "**Task 2: Rename the 'Price' column to 'Close'**"
      ],
      "metadata": {
        "id": "yiyZqRfnJaZX"
      }
    },
    {
      "cell_type": "code",
      "source": [
        "df=df.rename(columns={\"Price\": \"Close\"})"
      ],
      "metadata": {
        "id": "VxAOco6d4Wky"
      },
      "execution_count": 8,
      "outputs": []
    },
    {
      "cell_type": "code",
      "source": [
        "df.head()"
      ],
      "metadata": {
        "colab": {
          "base_uri": "https://localhost:8080/",
          "height": 206
        },
        "id": "2jnBjP224rD7",
        "outputId": "e1cd4b49-61d0-443a-d3e5-0fcbf76a3e35"
      },
      "execution_count": 9,
      "outputs": [
        {
          "output_type": "execute_result",
          "data": {
            "text/plain": [
              "       Date    Open    High     Low   Close     Vol. Change %\n",
              "0  2-Jan-18  161.78  161.78  161.18  161.28  485.60K   -0.25%\n",
              "1  3-Jan-18  161.26  161.82  161.20  161.58  604.24K    0.19%\n",
              "2  4-Jan-18  161.44  161.75  161.26  161.59  640.61K    0.01%\n",
              "3  5-Jan-18  161.70  161.87  161.50  161.59  467.09K    0.00%\n",
              "4  8-Jan-18  161.64  162.04  161.39  161.80  454.69K    0.13%"
            ],
            "text/html": [
              "\n",
              "  <div id=\"df-f8142a77-f199-45a1-a29f-d1fbb8a3612c\">\n",
              "    <div class=\"colab-df-container\">\n",
              "      <div>\n",
              "<style scoped>\n",
              "    .dataframe tbody tr th:only-of-type {\n",
              "        vertical-align: middle;\n",
              "    }\n",
              "\n",
              "    .dataframe tbody tr th {\n",
              "        vertical-align: top;\n",
              "    }\n",
              "\n",
              "    .dataframe thead th {\n",
              "        text-align: right;\n",
              "    }\n",
              "</style>\n",
              "<table border=\"1\" class=\"dataframe\">\n",
              "  <thead>\n",
              "    <tr style=\"text-align: right;\">\n",
              "      <th></th>\n",
              "      <th>Date</th>\n",
              "      <th>Open</th>\n",
              "      <th>High</th>\n",
              "      <th>Low</th>\n",
              "      <th>Close</th>\n",
              "      <th>Vol.</th>\n",
              "      <th>Change %</th>\n",
              "    </tr>\n",
              "  </thead>\n",
              "  <tbody>\n",
              "    <tr>\n",
              "      <th>0</th>\n",
              "      <td>2-Jan-18</td>\n",
              "      <td>161.78</td>\n",
              "      <td>161.78</td>\n",
              "      <td>161.18</td>\n",
              "      <td>161.28</td>\n",
              "      <td>485.60K</td>\n",
              "      <td>-0.25%</td>\n",
              "    </tr>\n",
              "    <tr>\n",
              "      <th>1</th>\n",
              "      <td>3-Jan-18</td>\n",
              "      <td>161.26</td>\n",
              "      <td>161.82</td>\n",
              "      <td>161.20</td>\n",
              "      <td>161.58</td>\n",
              "      <td>604.24K</td>\n",
              "      <td>0.19%</td>\n",
              "    </tr>\n",
              "    <tr>\n",
              "      <th>2</th>\n",
              "      <td>4-Jan-18</td>\n",
              "      <td>161.44</td>\n",
              "      <td>161.75</td>\n",
              "      <td>161.26</td>\n",
              "      <td>161.59</td>\n",
              "      <td>640.61K</td>\n",
              "      <td>0.01%</td>\n",
              "    </tr>\n",
              "    <tr>\n",
              "      <th>3</th>\n",
              "      <td>5-Jan-18</td>\n",
              "      <td>161.70</td>\n",
              "      <td>161.87</td>\n",
              "      <td>161.50</td>\n",
              "      <td>161.59</td>\n",
              "      <td>467.09K</td>\n",
              "      <td>0.00%</td>\n",
              "    </tr>\n",
              "    <tr>\n",
              "      <th>4</th>\n",
              "      <td>8-Jan-18</td>\n",
              "      <td>161.64</td>\n",
              "      <td>162.04</td>\n",
              "      <td>161.39</td>\n",
              "      <td>161.80</td>\n",
              "      <td>454.69K</td>\n",
              "      <td>0.13%</td>\n",
              "    </tr>\n",
              "  </tbody>\n",
              "</table>\n",
              "</div>\n",
              "      <button class=\"colab-df-convert\" onclick=\"convertToInteractive('df-f8142a77-f199-45a1-a29f-d1fbb8a3612c')\"\n",
              "              title=\"Convert this dataframe to an interactive table.\"\n",
              "              style=\"display:none;\">\n",
              "        \n",
              "  <svg xmlns=\"http://www.w3.org/2000/svg\" height=\"24px\"viewBox=\"0 0 24 24\"\n",
              "       width=\"24px\">\n",
              "    <path d=\"M0 0h24v24H0V0z\" fill=\"none\"/>\n",
              "    <path d=\"M18.56 5.44l.94 2.06.94-2.06 2.06-.94-2.06-.94-.94-2.06-.94 2.06-2.06.94zm-11 1L8.5 8.5l.94-2.06 2.06-.94-2.06-.94L8.5 2.5l-.94 2.06-2.06.94zm10 10l.94 2.06.94-2.06 2.06-.94-2.06-.94-.94-2.06-.94 2.06-2.06.94z\"/><path d=\"M17.41 7.96l-1.37-1.37c-.4-.4-.92-.59-1.43-.59-.52 0-1.04.2-1.43.59L10.3 9.45l-7.72 7.72c-.78.78-.78 2.05 0 2.83L4 21.41c.39.39.9.59 1.41.59.51 0 1.02-.2 1.41-.59l7.78-7.78 2.81-2.81c.8-.78.8-2.07 0-2.86zM5.41 20L4 18.59l7.72-7.72 1.47 1.35L5.41 20z\"/>\n",
              "  </svg>\n",
              "      </button>\n",
              "      \n",
              "  <style>\n",
              "    .colab-df-container {\n",
              "      display:flex;\n",
              "      flex-wrap:wrap;\n",
              "      gap: 12px;\n",
              "    }\n",
              "\n",
              "    .colab-df-convert {\n",
              "      background-color: #E8F0FE;\n",
              "      border: none;\n",
              "      border-radius: 50%;\n",
              "      cursor: pointer;\n",
              "      display: none;\n",
              "      fill: #1967D2;\n",
              "      height: 32px;\n",
              "      padding: 0 0 0 0;\n",
              "      width: 32px;\n",
              "    }\n",
              "\n",
              "    .colab-df-convert:hover {\n",
              "      background-color: #E2EBFA;\n",
              "      box-shadow: 0px 1px 2px rgba(60, 64, 67, 0.3), 0px 1px 3px 1px rgba(60, 64, 67, 0.15);\n",
              "      fill: #174EA6;\n",
              "    }\n",
              "\n",
              "    [theme=dark] .colab-df-convert {\n",
              "      background-color: #3B4455;\n",
              "      fill: #D2E3FC;\n",
              "    }\n",
              "\n",
              "    [theme=dark] .colab-df-convert:hover {\n",
              "      background-color: #434B5C;\n",
              "      box-shadow: 0px 1px 3px 1px rgba(0, 0, 0, 0.15);\n",
              "      filter: drop-shadow(0px 1px 2px rgba(0, 0, 0, 0.3));\n",
              "      fill: #FFFFFF;\n",
              "    }\n",
              "  </style>\n",
              "\n",
              "      <script>\n",
              "        const buttonEl =\n",
              "          document.querySelector('#df-f8142a77-f199-45a1-a29f-d1fbb8a3612c button.colab-df-convert');\n",
              "        buttonEl.style.display =\n",
              "          google.colab.kernel.accessAllowed ? 'block' : 'none';\n",
              "\n",
              "        async function convertToInteractive(key) {\n",
              "          const element = document.querySelector('#df-f8142a77-f199-45a1-a29f-d1fbb8a3612c');\n",
              "          const dataTable =\n",
              "            await google.colab.kernel.invokeFunction('convertToInteractive',\n",
              "                                                     [key], {});\n",
              "          if (!dataTable) return;\n",
              "\n",
              "          const docLinkHtml = 'Like what you see? Visit the ' +\n",
              "            '<a target=\"_blank\" href=https://colab.research.google.com/notebooks/data_table.ipynb>data table notebook</a>'\n",
              "            + ' to learn more about interactive tables.';\n",
              "          element.innerHTML = '';\n",
              "          dataTable['output_type'] = 'display_data';\n",
              "          await google.colab.output.renderOutput(dataTable, element);\n",
              "          const docLink = document.createElement('div');\n",
              "          docLink.innerHTML = docLinkHtml;\n",
              "          element.appendChild(docLink);\n",
              "        }\n",
              "      </script>\n",
              "    </div>\n",
              "  </div>\n",
              "  "
            ]
          },
          "metadata": {},
          "execution_count": 9
        }
      ]
    },
    {
      "cell_type": "code",
      "source": [
        "df['Date'] = pd.to_datetime(df['Date'])\n",
        "df['Year'] = df['Date'].dt.year\n",
        "df['Month'] = df['Date'].dt.month"
      ],
      "metadata": {
        "id": "sFnfSfOO46Kc"
      },
      "execution_count": 10,
      "outputs": []
    },
    {
      "cell_type": "markdown",
      "source": [
        "**Task 3: Calculate the Average True Range(ATR) based on the data**\n",
        "\n"
      ],
      "metadata": {
        "id": "9OSqND0AJmsi"
      }
    },
    {
      "cell_type": "code",
      "source": [
        "import datetime as dt\n",
        "high_low = df['High'] - df['Low']\n",
        "high_close = np.abs(df['High'] - df['Close'].shift())\n",
        "low_close = np.abs(df['Low'] - df['Close'].shift())\n",
        "ranges = pd.concat([high_low, high_close, low_close], axis=1)\n",
        "true_range = np.max(ranges, axis=1)\n",
        "atr = true_range.rolling(14).sum()/14"
      ],
      "metadata": {
        "id": "dQuZY_jVHHW2"
      },
      "execution_count": 11,
      "outputs": []
    },
    {
      "cell_type": "code",
      "source": [
        "import matplotlib.pyplot as plt\n",
        "fig, ax = plt.subplots()\n",
        "atr.plot(ax=ax)\n",
        "df['Close'].plot(ax=ax, secondary_y=True, alpha=0.3)\n",
        "plt.show()"
      ],
      "metadata": {
        "colab": {
          "base_uri": "https://localhost:8080/",
          "height": 265
        },
        "id": "90PRWfbC2Yx4",
        "outputId": "4e84bab3-c031-49c8-8a81-40c502b4c212"
      },
      "execution_count": 12,
      "outputs": [
        {
          "output_type": "display_data",
          "data": {
            "text/plain": [
              "<Figure size 432x288 with 2 Axes>"
            ],
            "image/png": "[encoded data removed]"
          },
          "metadata": {
            "needs_background": "light"
          }
        }
      ]
    },
    {
      "cell_type": "markdown",
      "source": [
        "**Task 4: Calculate 'Moving Standard Deviation' for both 'Close' as well as 'ATR'.**"
      ],
      "metadata": {
        "id": "reb0F3NnJ1XW"
      }
    },
    {
      "cell_type": "code",
      "source": [
        "df['close_std'] = df['Close'].rolling(window=14).std()\n",
        "df.tail()"
      ],
      "metadata": {
        "colab": {
          "base_uri": "https://localhost:8080/",
          "height": 206
        },
        "id": "J8DfKi0fqaJA",
        "outputId": "c1c09d40-b66c-4899-dfae-de1e077a33da"
      },
      "execution_count": 13,
      "outputs": [
        {
          "output_type": "execute_result",
          "data": {
            "text/plain": [
              "           Date    Open    High     Low   Close     Vol. Change %  Year  \\\n",
              "1134 2022-06-09  148.69  149.43  147.32  147.80    1.04M   -0.79%  2022   \n",
              "1135 2022-06-10  147.74  148.51  146.61  146.98  956.29K   -0.55%  2022   \n",
              "1136 2022-06-13  146.71  147.19  144.19  145.18    1.10M   -1.22%  2022   \n",
              "1137 2022-06-14  144.65  145.58  142.29  143.59    1.26M   -1.10%  2022   \n",
              "1138 2022-06-15  142.73  145.51  142.25  144.61    1.29M    0.71%  2022   \n",
              "\n",
              "      Month  close_std  \n",
              "1134      6   2.131116  \n",
              "1135      6   2.351351  \n",
              "1136      6   2.622317  \n",
              "1137      6   2.943058  \n",
              "1138      6   3.002452  "
            ],
            "text/html": [
              "\n",
              "  <div id=\"df-20bb5d5e-df4d-4a05-8b33-52ff44b7604f\">\n",
              "    <div class=\"colab-df-container\">\n",
              "      <div>\n",
              "<style scoped>\n",
              "    .dataframe tbody tr th:only-of-type {\n",
              "        vertical-align: middle;\n",
              "    }\n",
              "\n",
              "    .dataframe tbody tr th {\n",
              "        vertical-align: top;\n",
              "    }\n",
              "\n",
              "    .dataframe thead th {\n",
              "        text-align: right;\n",
              "    }\n",
              "</style>\n",
              "<table border=\"1\" class=\"dataframe\">\n",
              "  <thead>\n",
              "    <tr style=\"text-align: right;\">\n",
              "      <th></th>\n",
              "      <th>Date</th>\n",
              "      <th>Open</th>\n",
              "      <th>High</th>\n",
              "      <th>Low</th>\n",
              "      <th>Close</th>\n",
              "      <th>Vol.</th>\n",
              "      <th>Change %</th>\n",
              "      <th>Year</th>\n",
              "      <th>Month</th>\n",
              "      <th>close_std</th>\n",
              "    </tr>\n",
              "  </thead>\n",
              "  <tbody>\n",
              "    <tr>\n",
              "      <th>1134</th>\n",
              "      <td>2022-06-09</td>\n",
              "      <td>148.69</td>\n",
              "      <td>149.43</td>\n",
              "      <td>147.32</td>\n",
              "      <td>147.80</td>\n",
              "      <td>1.04M</td>\n",
              "      <td>-0.79%</td>\n",
              "      <td>2022</td>\n",
              "      <td>6</td>\n",
              "      <td>2.131116</td>\n",
              "    </tr>\n",
              "    <tr>\n",
              "      <th>1135</th>\n",
              "      <td>2022-06-10</td>\n",
              "      <td>147.74</td>\n",
              "      <td>148.51</td>\n",
              "      <td>146.61</td>\n",
              "      <td>146.98</td>\n",
              "      <td>956.29K</td>\n",
              "      <td>-0.55%</td>\n",
              "      <td>2022</td>\n",
              "      <td>6</td>\n",
              "      <td>2.351351</td>\n",
              "    </tr>\n",
              "    <tr>\n",
              "      <th>1136</th>\n",
              "      <td>2022-06-13</td>\n",
              "      <td>146.71</td>\n",
              "      <td>147.19</td>\n",
              "      <td>144.19</td>\n",
              "      <td>145.18</td>\n",
              "      <td>1.10M</td>\n",
              "      <td>-1.22%</td>\n",
              "      <td>2022</td>\n",
              "      <td>6</td>\n",
              "      <td>2.622317</td>\n",
              "    </tr>\n",
              "    <tr>\n",
              "      <th>1137</th>\n",
              "      <td>2022-06-14</td>\n",
              "      <td>144.65</td>\n",
              "      <td>145.58</td>\n",
              "      <td>142.29</td>\n",
              "      <td>143.59</td>\n",
              "      <td>1.26M</td>\n",
              "      <td>-1.10%</td>\n",
              "      <td>2022</td>\n",
              "      <td>6</td>\n",
              "      <td>2.943058</td>\n",
              "    </tr>\n",
              "    <tr>\n",
              "      <th>1138</th>\n",
              "      <td>2022-06-15</td>\n",
              "      <td>142.73</td>\n",
              "      <td>145.51</td>\n",
              "      <td>142.25</td>\n",
              "      <td>144.61</td>\n",
              "      <td>1.29M</td>\n",
              "      <td>0.71%</td>\n",
              "      <td>2022</td>\n",
              "      <td>6</td>\n",
              "      <td>3.002452</td>\n",
              "    </tr>\n",
              "  </tbody>\n",
              "</table>\n",
              "</div>\n",
              "      <button class=\"colab-df-convert\" onclick=\"convertToInteractive('df-20bb5d5e-df4d-4a05-8b33-52ff44b7604f')\"\n",
              "              title=\"Convert this dataframe to an interactive table.\"\n",
              "              style=\"display:none;\">\n",
              "        \n",
              "  <svg xmlns=\"http://www.w3.org/2000/svg\" height=\"24px\"viewBox=\"0 0 24 24\"\n",
              "       width=\"24px\">\n",
              "    <path d=\"M0 0h24v24H0V0z\" fill=\"none\"/>\n",
              "    <path d=\"M18.56 5.44l.94 2.06.94-2.06 2.06-.94-2.06-.94-.94-2.06-.94 2.06-2.06.94zm-11 1L8.5 8.5l.94-2.06 2.06-.94-2.06-.94L8.5 2.5l-.94 2.06-2.06.94zm10 10l.94 2.06.94-2.06 2.06-.94-2.06-.94-.94-2.06-.94 2.06-2.06.94z\"/><path d=\"M17.41 7.96l-1.37-1.37c-.4-.4-.92-.59-1.43-.59-.52 0-1.04.2-1.43.59L10.3 9.45l-7.72 7.72c-.78.78-.78 2.05 0 2.83L4 21.41c.39.39.9.59 1.41.59.51 0 1.02-.2 1.41-.59l7.78-7.78 2.81-2.81c.8-.78.8-2.07 0-2.86zM5.41 20L4 18.59l7.72-7.72 1.47 1.35L5.41 20z\"/>\n",
              "  </svg>\n",
              "      </button>\n",
              "      \n",
              "  <style>\n",
              "    .colab-df-container {\n",
              "      display:flex;\n",
              "      flex-wrap:wrap;\n",
              "      gap: 12px;\n",
              "    }\n",
              "\n",
              "    .colab-df-convert {\n",
              "      background-color: #E8F0FE;\n",
              "      border: none;\n",
              "      border-radius: 50%;\n",
              "      cursor: pointer;\n",
              "      display: none;\n",
              "      fill: #1967D2;\n",
              "      height: 32px;\n",
              "      padding: 0 0 0 0;\n",
              "      width: 32px;\n",
              "    }\n",
              "\n",
              "    .colab-df-convert:hover {\n",
              "      background-color: #E2EBFA;\n",
              "      box-shadow: 0px 1px 2px rgba(60, 64, 67, 0.3), 0px 1px 3px 1px rgba(60, 64, 67, 0.15);\n",
              "      fill: #174EA6;\n",
              "    }\n",
              "\n",
              "    [theme=dark] .colab-df-convert {\n",
              "      background-color: #3B4455;\n",
              "      fill: #D2E3FC;\n",
              "    }\n",
              "\n",
              "    [theme=dark] .colab-df-convert:hover {\n",
              "      background-color: #434B5C;\n",
              "      box-shadow: 0px 1px 3px 1px rgba(0, 0, 0, 0.15);\n",
              "      filter: drop-shadow(0px 1px 2px rgba(0, 0, 0, 0.3));\n",
              "      fill: #FFFFFF;\n",
              "    }\n",
              "  </style>\n",
              "\n",
              "      <script>\n",
              "        const buttonEl =\n",
              "          document.querySelector('#df-20bb5d5e-df4d-4a05-8b33-52ff44b7604f button.colab-df-convert');\n",
              "        buttonEl.style.display =\n",
              "          google.colab.kernel.accessAllowed ? 'block' : 'none';\n",
              "\n",
              "        async function convertToInteractive(key) {\n",
              "          const element = document.querySelector('#df-20bb5d5e-df4d-4a05-8b33-52ff44b7604f');\n",
              "          const dataTable =\n",
              "            await google.colab.kernel.invokeFunction('convertToInteractive',\n",
              "                                                     [key], {});\n",
              "          if (!dataTable) return;\n",
              "\n",
              "          const docLinkHtml = 'Like what you see? Visit the ' +\n",
              "            '<a target=\"_blank\" href=https://colab.research.google.com/notebooks/data_table.ipynb>data table notebook</a>'\n",
              "            + ' to learn more about interactive tables.';\n",
              "          element.innerHTML = '';\n",
              "          dataTable['output_type'] = 'display_data';\n",
              "          await google.colab.output.renderOutput(dataTable, element);\n",
              "          const docLink = document.createElement('div');\n",
              "          docLink.innerHTML = docLinkHtml;\n",
              "          element.appendChild(docLink);\n",
              "        }\n",
              "      </script>\n",
              "    </div>\n",
              "  </div>\n",
              "  "
            ]
          },
          "metadata": {},
          "execution_count": 13
        }
      ]
    },
    {
      "cell_type": "markdown",
      "source": [
        "**Task 5: Create simple Front end that shows a candlestick chart along with an overlaid atr chart**"
      ],
      "metadata": {
        "id": "ESLY7Dv9KLeV"
      }
    },
    {
      "cell_type": "code",
      "source": [
        "import plotly.graph_objects as go\n",
        "fig = go.Figure(data=[go.Candlestick(x=df.index,\n",
        "                open=df['Open'],\n",
        "                high=df['High'],\n",
        "                low=df['Low'],\n",
        "                close=df['Close'])])\n",
        "\n",
        "fig.show()"
      ],
      "metadata": {
        "colab": {
          "base_uri": "https://localhost:8080/",
          "height": 542
        },
        "id": "k7GGPJUXCOKV",
        "outputId": "86e06a40-2904-4332-d2dd-b0cc69f5a6f0"
      },
      "execution_count": 19,
      "outputs": [
        {
          "output_type": "display_data",
          "data": {
            "text/html": [
              "<html>\n",
              "<head><meta charset=\"utf-8\" /></head>\n",
              "<body>\n",
              "    <div>            <script src=\"https://cdnjs.cloudflare.com/ajax/libs/mathjax/2.7.5/MathJax.js?config=TeX-AMS-MML_SVG\"></script><script type=\"text/javascript\">if (window.MathJax) {MathJax.Hub.Config({SVG: {font: \"STIX-Web\"}});}</script>                <script type=\"text/javascript\">window.PlotlyConfig = {MathJaxConfig: 'local'};</script>\n",
              "        <script src=\"https://cdn.plot.ly/plotly-2.8.3.min.js\"></script>                <div id=\"1b86e8fe-45e5-414a-b018-24dd2e3ee709\" class=\"plotly-graph-div\" style=\"height:525px; width:100%;\"></div>            <script type=\"text/javascript\">                                    window.PLOTLYENV=window.PLOTLYENV || {};                                    if (document.getElementById(\"1b86e8fe-45e5-414a-b018-24dd2e3ee709\")) {                    Plotly.newPlot(                        \"1b86e8fe-45e5-414a-b018-24dd2e3ee709\",                        [{\"close\":[161.28,161.58,161.59,161.59,161.8,161.3,161.07,160.31,160.38,160.34,160.77,160.82,160.58,160.66,160.74,160.8,160.4,160.05,159.79,158.71,158.91,158.82,158.6,157.87,158.09,158.86,158.23,157.74,158.04,157.97,158.11,157.98,157.88,158.61,158.27,158.39,158.51,158.76,159.48,159.56,159.2,159.44,159.7,159.77,159.88,159.25,159.43,159.36,156.98,157.27,157.47,157.94,158.14,158.19,158.23,158.06,157.88,158.96,158.87,158.93,159.23,159.31,159.43,159.3,159.47,159.11,159.5,159.3,159.05,159.5,159.29,159.34,159.15,159.34,159.05,158.17,158.13,157.8,157.76,157.72,158.31,158.66,158.74,158.59,159.26,159.08,159.31,158.85,158.85,159.07,158.85,158.14,157.76,158.18,157.87,158.67,159.24,158.9,159.76,160.22,161.02,161.93,162.8,162.02,162.14,161.46,160.89,161.46,160.24,159.57,160.4,159.74,159.85,160.07,160.71,161.16,161.15,161.53,161.51,162.15,162.1,162.23,162.09,162.3,162.46,162.55,162.63,162.72,162.55,162.7,162.82,162.61,162.38,162.53,162.77,162.98,162.47,162.85,162.95,163.08,162.53,162.1,162.28,162.37,162.18,162.07,161.43,161.58,160.91,161.26,162.05,162.35,162.01,162.11,162.5,163.34,163.36,163.21,163.71,163.49,163.67,163.73,163.24,163.0,163.06,163.09,162.64,162.52,162.18,162.98,163.27,163.21,162.87,162.44,162.62,159.95,159.69,159.3,159.63,159.46,159.17,159.02,158.74,158.62,158.74,159.0,158.32,157.87,158.04,158.06,158.79,158.77,159.52,158.93,158.04,157.61,157.95,158.09,157.88,158.35,158.53,158.59,158.72,159.16,159.52,159.4,159.34,159.79,160.18,160.16,160.87,160.35,160.44,160.26,159.98,159.63,159.74,159.7,159.5,159.37,160.03,160.29,160.08,160.14,160.81,160.65,160.6,160.89,160.58,160.63,161.1,160.74,161.02,160.9,161.41,161.54,161.5,162.09,161.99,162.38,163.17,163.4,163.48,162.98,162.87,163.2,163.14,163.34,163.38,163.56,163.36,163.73,163.54,164.64,164.82,163.97,163.96,163.74,163.96,164.21,164.41,164.57,164.89,164.59,164.3,164.07,164.13,164.47,164.57,165.32,165.07,164.91,165.08,165.18,165.67,165.5,165.28,165.49,165.51,166.36,166.75,166.35,166.02,166.12,166.54,166.47,166.36,166.42,166.51,166.07,166.62,166.4,166.27,165.68,165.31,165.22,165.59,165.52,166.11,166.24,164.39,164.53,164.54,164.47,164.13,164.14,164.27,163.96,164.25,164.85,165.74,165.66,165.58,166.59,166.39,166.34,165.67,166.11,165.4,165.52,165.36,165.36,165.48,165.89,165.58,164.62,164.66,164.6,164.3,165.22,165.12,164.94,165.73,165.69,165.82,165.55,165.31,165.24,165.26,165.44,166.08,166.2,166.26,166.25,166.52,166.59,166.94,166.95,167.06,166.79,166.49,166.72,167.22,167.24,167.64,167.8,168.02,168.0,168.34,168.37,168.46,168.68,168.95,171.72,171.11,171.36,171.48,171.54,171.78,171.56,172.86,172.16,172.64,172.07,172.47,172.88,172.5,172.62,172.74,173.3,173.35,173.67,173.85,173.18,173.51,173.21,172.51,171.82,171.68,172.33,172.34,172.93,173.25,173.39,173.78,173.91,174.3,174.01,174.21,174.46,174.55,175.07,175.44,175.82,176.22,176.58,177.36,176.93,177.16,177.44,177.68,178.31,179.06,178.6,178.15,178.9,178.68,178.04,178.54,178.52,178.94,179.3,178.94,179.1,178.96,179.32,178.52,177.31,177.7,174.24,173.98,174.24,173.93,172.44,172.98,172.87,173.37,173.3,173.47,174.54,174.73,174.36,174.32,174.21,174.25,174.2,173.79,174.46,174.49,174.31,174.67,174.05,173.0,172.39,172.58,171.89,171.58,171.72,171.49,170.89,171.42,171.67,171.83,171.35,170.7,171.04,171.06,171.76,171.42,170.99,170.53,170.67,169.57,169.69,169.56,169.54,170.36,170.99,170.85,170.84,170.91,171.09,170.75,171.24,171.09,171.45,171.35,171.26,171.07,169.92,171.04,170.7,170.32,170.53,172.37,172.23,172.63,171.75,172.1,171.92,172.13,171.48,171.28,171.54,171.43,171.61,170.49,171.26,172.12,172.24,172.12,171.78,171.14,171.35,170.76,171.01,171.46,171.72,171.61,171.67,172.21,172.33,173.03,173.28,174.23,173.68,174.06,174.57,175.04,174.88,174.53,173.92,173.82,174.18,174.57,174.26,174.02,174.27,174.48,174.45,174.53,174.66,174.96,174.93,175.58,176.02,175.83,176.58,177.46,177.83,177.74,177.9,178.59,179.44,178.23,177.59,176.77,176.5,174.17,172.17,171.93,168.79,167.94,170.42,171.12,170.27,169.62,171.07,172.56,173.6,172.51,172.57,171.92,172.06,171.82,170.49,170.46,170.9,171.54,172.68,172.67,172.85,172.41,172.91,172.0,172.1,172.76,172.45,172.75,173.06,174.43,174.04,174.41,173.3,173.89,173.77,173.53,173.37,173.63,173.65,173.74,173.16,172.7,172.72,173.15,173.12,173.06,172.16,172.07,172.05,172.46,171.65,171.86,170.97,170.54,169.86,170.22,173.46,173.81,175.24,175.57,175.52,175.4,175.4,175.59,175.68,176.11,175.61,176.01,176.55,176.7,176.66,176.52,175.29,176.01,176.02,175.96,175.88,176.13,176.52,176.63,175.63,176.2,176.12,176.62,176.27,176.37,176.37,176.93,176.72,176.09,176.8,177.13,176.95,177.69,177.52,177.31,177.81,177.1,177.6,177.17,177.5,176.66,176.24,175.56,175.76,176.21,176.43,176.57,176.95,177.1,177.02,175.89,175.66,175.44,175.68,175.56,175.72,176.67,177.07,176.78,176.52,176.93,173.68,173.11,173.96,174.0,174.0,173.92,174.26,174.07,174.65,174.37,174.21,174.44,174.67,174.62,174.87,174.52,174.66,174.66,174.42,174.27,174.13,174.48,174.68,174.81,175.06,175.35,175.9,176.07,176.11,175.81,175.71,175.19,175.26,175.3,175.94,176.07,176.31,176.15,176.24,176.02,176.4,176.33,176.03,174.36,174.02,174.3,174.74,174.94,174.93,175.18,175.12,175.33,175.53,175.41,175.26,175.33,175.51,175.5,175.25,174.56,174.48,174.94,174.82,175.41,175.43,178.19,178.08,178.68,178.42,178.27,177.55,177.69,177.66,177.86,177.93,177.07,177.36,177.39,177.7,177.64,177.84,178.12,177.9,177.37,177.25,177.3,176.93,176.44,177.36,177.84,177.66,177.37,177.4,177.45,176.8,177.16,177.83,177.52,177.79,177.77,177.25,177.22,176.75,176.47,176.32,176.17,176.12,176.21,176.1,176.43,175.97,175.23,174.8,175.04,174.68,174.18,174.72,174.35,174.04,173.06,173.4,174.56,174.67,173.95,174.27,174.0,174.01,171.23,171.32,171.64,171.12,171.78,171.78,171.08,170.72,171.22,171.49,171.92,172.17,172.58,172.12,171.62,171.0,171.28,171.83,171.73,171.68,171.67,171.89,171.37,171.3,171.26,170.87,171.33,170.91,170.48,170.74,170.88,170.94,170.83,170.83,170.76,170.48,169.88,170.0,170.16,170.66,170.47,170.59,170.47,170.29,169.45,168.94,168.89,168.98,168.86,168.82,168.9,168.84,169.14,169.32,169.69,170.29,169.79,169.94,169.94,169.83,170.15,169.94,170.33,170.12,170.23,172.56,172.53,172.88,172.64,172.32,172.53,172.44,172.6,172.16,171.95,172.17,172.33,171.77,172.26,172.07,172.61,172.54,173.09,172.7,173.6,174.02,174.34,173.9,174.05,174.12,174.34,174.58,174.87,175.52,175.85,175.53,175.94,175.81,175.83,176.26,176.41,176.44,176.57,176.82,176.97,176.94,177.29,176.5,176.52,176.59,176.57,176.58,176.64,176.8,176.8,176.92,177.04,177.15,176.89,176.83,175.98,175.93,175.99,176.28,175.45,175.23,175.47,175.17,175.25,174.49,174.6,172.28,171.88,171.8,171.91,171.57,171.43,171.0,171.55,171.74,171.74,170.7,170.3,170.17,169.86,170.15,169.82,170.22,170.11,169.66,169.65,169.71,169.22,168.78,168.41,168.94,169.65,169.56,169.11,168.54,168.71,168.25,168.28,168.65,168.69,169.54,169.06,168.12,168.15,169.33,169.34,170.21,171.07,170.69,171.25,170.69,170.42,170.85,170.75,170.77,170.77,171.24,172.32,171.77,170.81,170.54,170.98,172.34,172.02,172.37,172.07,172.75,172.77,172.91,172.53,172.86,174.19,174.24,174.68,174.46,174.32,174.05,174.43,174.42,173.31,173.14,172.43,172.54,172.41,172.36,171.51,171.37,170.74,170.81,170.75,170.34,170.0,169.96,169.79,170.22,170.71,170.08,169.65,169.57,169.38,169.74,170.29,170.87,170.66,170.35,170.16,170.02,169.11,168.76,168.66,166.9,166.02,165.6,165.18,165.86,164.94,164.95,165.23,164.54,165.23,165.84,166.34,166.26,165.7,165.99,166.93,166.15,167.04,170.3,169.38,169.2,170.96,169.9,168.49,163.58,162.78,162.44,161.21,161.97,161.07,161.01,161.37,160.3,159.43,159.8,159.26,158.65,158.32,157.37,157.16,158.66,158.35,159.1,157.73,157.24,156.83,156.57,155.03,155.36,155.86,154.95,154.71,153.7,154.61,153.8,153.25,154.89,155.48,155.46,154.15,153.59,153.49,153.67,153.18,152.55,150.94,151.74,152.95,152.91,154.76,153.76,154.03,152.54,152.94,153.88,153.93,153.11,153.94,153.92,153.26,153.74,152.65,151.57,151.01,150.26,149.63,148.95,149.53,148.98,147.8,146.98,145.18,143.59,144.61],\"high\":[161.78,161.82,161.75,161.87,162.04,162.0,161.37,161.55,160.65,160.76,160.97,160.97,160.7,160.85,160.82,161.13,160.85,160.75,160.36,159.64,159.18,159.33,158.81,158.36,159.3,159.24,158.92,158.23,158.65,158.17,158.44,158.38,158.01,158.78,158.53,158.55,158.85,158.85,159.66,159.67,159.51,159.52,160.09,160.21,160.38,159.74,159.63,159.56,157.25,157.36,157.61,157.97,158.24,158.35,158.3,158.17,158.1,159.0,159.01,158.95,159.42,159.69,159.48,159.61,159.66,159.26,159.57,159.49,159.59,159.65,159.52,159.37,159.27,159.45,159.55,159.04,158.4,157.97,158.04,157.88,158.46,158.78,158.91,158.7,159.35,159.39,159.42,159.28,158.9,159.25,159.16,159.01,158.17,158.5,158.39,158.82,159.5,159.43,159.84,160.29,161.34,162.0,164.15,163.06,162.23,161.83,161.42,161.68,161.32,160.14,161.13,160.22,159.92,160.22,160.85,161.52,161.41,161.86,161.69,162.35,162.24,162.57,162.37,162.55,162.66,162.65,162.89,162.81,162.87,162.78,162.93,162.73,162.57,162.8,162.82,163.22,162.97,162.9,163.2,163.26,163.39,162.54,162.33,162.47,162.37,162.23,162.3,162.05,161.45,161.55,162.12,162.38,162.39,162.27,162.62,163.45,163.62,163.35,163.82,163.67,163.88,163.74,163.71,163.45,163.23,163.16,163.36,162.87,162.68,163.08,163.32,163.49,163.22,163.03,162.7,160.43,160.1,159.67,159.8,159.78,159.54,159.29,159.26,158.87,158.93,159.1,159.14,158.21,158.49,158.79,159.25,158.99,159.78,159.46,158.48,158.12,158.23,158.18,158.16,158.71,158.74,158.87,158.81,159.24,159.94,160.08,159.52,159.98,160.35,160.33,160.9,160.79,160.56,160.37,160.27,159.81,159.91,160.04,159.89,159.51,160.07,160.45,160.42,160.47,160.92,160.76,160.73,161.04,160.78,160.87,161.19,160.99,161.21,161.18,161.42,161.58,161.7,162.43,162.45,162.48,163.46,163.64,163.59,163.53,163.14,163.3,163.3,163.55,163.85,164.01,163.54,163.79,163.76,164.94,165.1,165.04,164.32,163.9,164.11,164.38,164.64,164.88,164.98,164.9,164.89,164.34,164.3,164.75,164.77,165.54,165.43,165.3,165.28,165.53,165.87,165.77,165.64,165.52,165.68,166.45,166.83,166.73,166.26,166.24,166.73,166.64,166.55,166.75,166.69,166.67,166.72,166.62,166.66,166.48,165.97,165.38,165.71,165.79,166.29,166.28,164.74,164.62,164.74,164.68,164.45,164.45,164.36,164.35,164.53,164.93,165.86,165.97,165.83,166.7,166.75,166.42,166.21,166.17,166.0,165.66,165.52,165.55,165.64,166.0,165.87,165.79,164.76,164.94,164.59,165.27,165.12,165.13,165.78,165.8,165.92,165.84,165.69,165.48,165.45,165.86,166.18,166.47,166.54,166.4,166.61,166.72,167.43,167.27,167.41,167.07,166.9,166.9,167.4,167.33,167.69,167.93,168.13,168.21,168.63,168.69,168.68,168.84,169.01,171.8,171.66,171.42,171.62,171.69,171.99,171.75,172.88,172.72,172.7,172.65,172.59,172.91,172.82,172.77,172.84,173.33,173.5,173.9,174.05,173.96,173.7,173.46,173.08,172.73,171.88,172.42,172.68,173.13,173.63,173.57,173.79,173.97,174.51,174.92,174.3,174.57,174.65,175.28,175.88,176.1,176.63,176.74,177.74,177.42,177.55,177.68,177.84,178.49,179.66,179.58,178.84,179.19,178.83,178.94,178.83,179.21,179.07,179.46,179.36,179.27,179.2,179.67,179.0,178.57,177.78,175.3,174.52,174.38,175.62,173.63,173.13,173.16,173.48,173.4,173.84,174.64,174.88,174.97,174.46,174.54,174.36,174.25,174.04,174.78,174.75,174.72,174.69,174.56,174.14,173.15,172.94,172.82,172.29,171.93,171.88,171.46,171.73,171.93,171.96,171.8,171.35,171.14,171.36,172.03,171.99,171.47,170.95,170.94,170.97,169.89,169.99,169.83,170.45,171.15,171.05,171.06,171.0,171.56,171.35,171.27,171.24,171.49,171.52,171.6,171.4,171.0,171.14,171.31,170.84,170.53,172.59,172.45,172.88,172.99,172.31,172.43,172.29,172.4,171.66,171.63,171.88,171.79,171.68,171.42,172.38,172.6,172.31,173.22,171.51,171.43,171.43,171.08,171.72,171.8,171.82,171.76,172.27,172.5,173.09,173.54,174.27,174.48,174.28,174.65,175.3,175.14,175.07,174.63,173.96,174.42,174.69,174.55,174.2,174.64,174.59,174.52,174.92,174.74,175.12,175.37,175.86,176.21,176.3,176.89,177.79,178.38,178.25,178.36,178.9,179.56,179.31,177.91,177.91,177.64,176.57,175.25,172.47,171.39,171.18,170.84,171.54,171.38,170.78,171.35,173.07,173.83,173.16,173.48,172.6,172.44,172.05,171.9,171.31,171.09,171.71,172.78,172.9,172.89,173.01,173.26,172.95,172.48,172.87,172.91,172.84,173.28,174.57,174.69,174.55,174.23,174.08,174.24,173.74,173.49,173.92,174.08,174.23,174.09,173.11,172.97,173.27,173.52,173.28,173.16,172.53,172.32,172.57,172.42,172.15,171.87,171.34,170.7,170.27,174.02,174.18,175.34,175.6,175.98,175.58,175.63,175.76,175.79,176.37,176.13,176.12,176.72,176.8,176.86,176.86,176.2,176.06,176.24,176.15,176.3,176.37,176.61,176.92,176.49,176.25,176.47,176.74,176.68,176.54,176.45,176.95,176.89,176.98,176.87,177.24,177.29,177.8,178.01,177.48,178.01,178.0,177.81,177.67,177.64,177.5,176.88,176.6,175.81,176.27,176.51,176.87,177.18,177.37,177.25,176.95,176.04,176.58,175.82,175.78,176.18,176.82,177.18,177.04,176.86,176.94,174.41,173.91,174.04,174.32,174.15,174.29,174.45,174.43,174.85,174.74,174.64,174.72,174.7,174.68,174.9,174.95,174.71,174.97,174.9,174.65,174.61,174.58,174.86,174.87,175.13,175.5,176.28,176.29,176.17,176.24,175.86,175.73,175.52,175.73,176.06,176.43,176.44,176.38,176.36,176.37,176.83,176.65,176.49,176.46,174.63,174.5,174.97,175.17,175.29,175.27,175.46,175.41,175.73,175.71,175.47,175.46,175.59,175.65,175.72,175.45,174.69,175.18,175.22,175.51,175.61,178.3,178.55,178.77,178.56,178.57,178.31,177.98,177.85,178.44,178.09,178.18,177.36,177.77,177.75,177.84,177.84,178.37,178.27,177.85,177.69,177.53,177.55,176.87,177.6,177.96,177.94,177.81,177.45,177.5,177.56,177.27,177.88,177.96,178.12,177.96,177.66,177.42,177.23,176.7,176.57,176.48,176.23,176.36,176.38,176.64,176.53,175.7,175.45,175.14,175.26,174.7,175.02,174.65,174.57,174.25,173.91,174.75,174.93,174.97,174.51,174.28,174.0,171.7,171.53,172.2,171.65,171.87,172.0,171.8,171.47,171.43,171.8,172.17,172.44,172.66,172.58,172.34,171.56,171.4,171.86,171.73,171.89,172.06,172.12,172.07,171.87,171.54,171.62,171.52,171.31,171.07,170.93,171.12,171.27,171.13,170.95,170.91,170.67,170.64,170.19,170.34,170.8,170.64,170.88,170.98,170.32,170.25,169.77,169.08,169.21,169.35,169.14,169.12,168.92,169.31,169.41,169.92,170.4,170.38,170.08,170.08,170.15,170.2,170.2,170.43,170.4,170.35,172.85,172.88,173.16,173.04,172.8,172.66,172.7,172.88,173.03,172.2,172.46,172.39,172.3,172.34,172.33,172.74,172.69,173.19,173.18,173.65,174.27,174.77,174.32,174.32,174.31,174.49,174.9,175.04,175.72,176.28,176.11,176.15,175.97,176.42,176.37,176.66,176.67,176.73,177.07,177.12,177.52,177.61,177.27,176.91,176.95,176.83,176.77,176.8,177.07,177.24,177.08,177.24,177.22,177.16,177.08,176.87,176.14,176.11,176.4,176.48,175.5,175.65,175.64,175.27,175.18,174.71,172.48,172.46,171.92,172.12,172.07,171.53,171.32,171.84,171.96,171.93,171.72,170.62,170.68,170.31,170.32,170.19,170.53,170.55,170.39,169.91,170.0,169.69,169.11,169.0,169.12,169.92,169.84,169.3,169.48,168.87,168.8,168.55,168.68,168.97,169.83,169.65,168.98,168.56,169.36,169.7,170.33,171.24,171.12,171.44,171.38,170.87,171.07,171.4,170.86,170.97,171.38,172.42,172.57,171.7,171.18,171.06,172.46,172.38,172.71,172.59,173.06,173.14,173.01,172.79,172.96,174.31,174.27,174.7,174.75,174.56,174.44,174.66,174.94,174.44,173.52,173.19,172.54,172.64,172.47,172.42,171.79,171.53,171.17,170.93,170.61,170.53,170.21,170.2,170.51,171.0,170.95,169.92,169.81,169.54,169.94,170.63,171.07,170.89,170.58,170.42,170.22,169.93,169.54,169.17,168.81,167.0,166.49,166.11,166.01,165.96,166.46,166.38,165.53,165.47,166.08,166.74,166.97,167.17,166.17,168.01,167.2,168.0,171.12,170.85,169.75,171.22,171.66,170.12,165.29,164.43,163.2,162.73,162.05,161.81,161.69,161.77,161.34,159.99,160.31,160.26,159.64,158.67,158.33,158.06,159.05,158.89,159.79,159.42,157.78,157.87,157.29,156.19,155.76,155.91,156.17,154.71,154.7,155.0,154.66,153.92,155.26,155.74,155.83,156.0,154.69,154.19,154.1,153.73,154.18,152.74,152.01,153.17,153.86,155.33,155.12,154.2,153.74,153.06,154.45,154.22,154.11,153.98,154.43,154.74,154.14,153.52,152.89,151.85,151.09,150.35,150.13,149.62,149.3,149.43,148.51,147.19,145.58,145.51],\"low\":[161.18,161.2,161.26,161.5,161.39,161.2,160.91,160.27,160.11,160.3,160.41,160.65,160.3,160.31,160.38,160.68,160.32,159.66,159.74,158.66,158.73,158.5,158.15,157.71,157.62,158.48,157.92,157.26,157.7,157.54,157.95,157.65,157.42,157.65,158.17,157.9,158.17,158.18,158.68,159.25,159.05,159.03,159.44,159.58,159.41,158.89,159.26,159.32,156.88,156.91,157.17,157.34,157.81,157.98,157.67,157.91,157.75,158.05,158.55,158.59,158.73,159.12,159.14,159.07,159.22,158.89,159.15,159.24,159.0,159.17,159.15,158.95,158.74,158.95,158.96,158.06,157.9,157.62,157.43,157.45,157.74,158.38,158.38,158.44,158.43,159.05,159.07,158.77,158.52,158.81,158.79,158.12,157.61,157.84,157.73,157.8,158.61,158.74,159.03,159.31,160.05,160.29,161.79,161.41,160.95,160.99,160.78,160.81,159.94,159.54,160.18,159.55,159.37,159.63,159.45,160.75,161.02,161.46,161.31,161.26,161.8,162.01,161.75,162.01,162.18,161.85,162.42,162.22,162.37,162.06,162.47,162.35,162.26,162.4,162.45,162.66,162.44,162.57,162.75,162.7,162.44,161.97,161.82,161.9,161.88,161.97,161.33,161.41,160.86,161.05,161.37,161.83,161.97,161.96,162.22,162.69,163.22,163.11,163.1,163.36,163.42,163.42,163.17,162.91,162.93,162.8,162.55,162.35,162.1,162.13,162.83,163.04,162.8,162.28,162.45,159.83,159.52,159.23,159.34,159.26,159.01,158.84,158.66,158.42,158.38,158.68,158.21,157.75,157.89,158.02,158.4,158.37,159.0,158.21,157.74,157.33,157.5,157.61,157.45,158.12,157.95,158.46,158.34,158.72,158.82,159.07,158.84,159.43,159.66,159.83,160.22,160.06,159.96,160.01,159.75,159.45,159.58,159.61,159.28,159.19,159.43,159.93,159.98,159.96,160.07,160.54,160.24,160.54,160.48,160.53,160.51,160.64,160.82,160.83,160.98,161.27,161.01,161.61,161.97,162.12,162.93,162.98,162.83,162.6,162.51,162.81,162.96,163.22,163.24,163.41,163.27,163.15,163.42,163.58,164.38,163.88,163.76,163.5,163.48,163.93,164.16,164.43,164.38,164.36,164.23,163.84,164.04,164.12,164.34,164.59,164.96,164.69,164.85,164.99,165.3,165.43,165.22,164.93,165.37,165.52,166.26,166.15,165.84,165.86,166.02,166.28,166.28,166.27,166.35,165.85,166.11,166.2,166.16,165.56,165.15,164.97,165.01,165.26,165.63,166.03,164.31,164.32,163.92,164.18,164.07,163.94,163.96,163.63,163.84,164.32,164.62,165.34,165.45,165.68,166.21,166.02,165.6,165.7,165.18,165.19,165.07,165.14,165.11,165.4,165.51,164.56,164.33,164.39,164.06,164.33,165.12,164.71,164.96,165.56,165.55,165.33,164.84,164.97,164.82,165.31,165.24,165.92,166.1,165.94,166.1,166.31,166.57,166.78,166.86,166.63,166.33,166.44,166.86,167.1,167.18,167.52,167.85,167.72,168.3,168.33,168.39,168.38,168.7,171.25,171.06,170.98,171.32,171.39,171.59,171.42,171.51,172.09,172.41,171.95,172.02,172.45,172.26,171.92,172.46,172.47,172.97,173.53,173.61,172.99,173.29,173.04,172.02,171.5,171.25,171.49,172.16,172.44,173.02,173.27,173.29,173.56,173.74,173.49,173.92,174.27,174.36,174.52,174.73,175.62,175.93,176.12,176.72,176.38,176.96,177.03,177.31,177.62,178.18,178.14,177.82,178.19,178.19,177.65,177.48,178.22,178.45,178.88,178.57,178.63,178.6,178.81,177.98,176.97,177.09,174.19,173.75,173.65,173.23,172.18,172.4,172.67,172.65,172.86,173.23,173.29,174.03,173.93,174.03,174.05,173.77,173.31,173.6,173.88,174.33,174.17,173.86,173.85,172.57,172.08,172.32,171.63,171.37,170.73,171.24,170.78,170.76,171.44,171.16,171.12,170.56,170.6,170.79,171.17,171.35,170.91,170.3,170.22,169.17,169.12,169.46,169.26,169.67,170.26,170.65,170.55,170.66,170.95,170.56,170.31,170.94,170.88,171.13,171.16,170.91,169.85,169.74,170.56,170.06,170.18,172.02,172.07,172.17,171.61,170.75,171.8,171.96,171.35,170.9,171.06,171.3,171.42,170.42,170.19,171.1,172.07,171.91,171.26,171.01,170.85,170.71,170.65,171.01,171.35,171.46,171.52,171.55,171.91,172.35,172.6,173.41,173.48,173.41,174.23,174.16,174.62,174.25,173.65,173.42,173.84,174.01,174.13,173.72,174.05,174.1,174.08,174.29,174.28,174.51,174.77,175.13,175.21,175.38,175.86,176.52,177.0,176.83,177.46,177.5,179.0,177.05,175.41,176.55,175.9,173.12,171.97,170.9,168.24,167.52,168.52,170.22,170.19,169.34,169.69,170.9,172.62,172.33,172.23,171.6,171.8,171.42,170.24,170.0,170.01,170.28,171.36,172.04,172.17,172.19,172.45,171.67,171.29,172.27,172.23,172.09,172.58,172.94,173.77,173.42,173.19,172.89,173.52,173.13,172.8,173.41,173.5,173.59,172.61,172.26,172.51,172.66,172.93,172.98,172.01,171.5,171.68,172.0,171.47,171.67,170.86,170.37,169.66,169.88,173.3,173.25,174.12,174.9,175.28,174.9,174.8,175.16,175.3,175.6,175.45,175.2,176.09,176.32,176.35,176.16,175.2,175.04,175.85,175.62,175.72,176.02,175.96,176.34,175.54,175.74,175.92,176.07,176.1,175.77,176.06,176.2,176.59,175.95,175.96,176.49,176.83,176.92,177.25,177.03,177.19,177.0,176.92,177.07,176.89,176.56,175.93,175.27,175.25,175.54,176.03,176.39,176.45,176.75,176.73,175.75,175.47,175.28,175.06,175.22,175.17,176.0,176.49,176.37,176.19,176.42,173.51,173.06,173.54,173.91,173.78,173.84,173.74,173.93,173.95,174.25,174.19,174.22,174.16,174.31,174.58,174.34,174.17,174.6,174.19,174.15,173.93,174.04,174.49,174.6,174.76,175.04,175.35,175.77,175.77,175.66,175.34,175.17,175.0,175.1,175.27,175.95,175.92,175.9,175.9,175.82,175.53,176.09,175.86,174.26,173.92,173.66,174.26,174.78,174.45,174.85,174.91,175.1,175.25,175.26,175.12,174.96,175.16,175.41,175.21,174.47,174.37,174.56,174.81,175.03,175.35,177.91,177.77,178.17,178.13,178.17,177.27,177.34,177.28,177.61,177.63,177.01,177.36,177.17,177.52,177.27,177.84,177.52,177.71,177.02,177.17,177.16,176.84,176.34,176.72,177.32,177.5,177.24,177.1,177.25,176.74,176.63,177.12,177.45,177.39,177.46,176.89,176.97,176.63,176.35,176.1,175.63,175.61,175.92,175.94,176.24,175.77,175.15,174.49,174.38,174.38,173.98,173.58,173.82,173.65,172.08,172.11,173.77,174.14,173.75,173.71,173.63,173.71,170.83,171.07,171.3,171.05,171.2,171.64,170.98,170.52,170.93,171.23,171.42,171.93,172.15,171.91,171.45,170.71,170.88,171.07,171.73,171.32,171.6,171.63,171.15,171.23,170.98,170.66,170.6,170.77,170.17,170.09,170.61,170.53,170.67,170.46,170.51,170.04,169.66,169.77,169.47,169.89,170.2,170.23,170.2,169.97,169.39,168.83,168.59,168.77,168.67,168.69,168.29,168.48,168.75,169.02,169.29,169.69,169.68,169.53,169.48,169.68,169.88,169.81,169.84,170.05,170.09,172.08,171.97,172.79,172.52,172.25,171.91,171.8,172.36,171.93,171.67,171.76,171.88,171.68,171.71,171.86,171.98,172.22,172.54,172.65,172.49,173.46,174.09,173.87,173.91,173.7,173.7,174.45,174.65,175.02,175.41,175.41,175.24,175.56,175.62,175.82,176.2,176.03,176.29,176.35,176.67,176.85,177.05,176.47,176.39,176.41,176.21,176.35,176.29,176.48,176.68,176.71,176.86,176.99,176.56,176.66,175.91,175.71,175.66,175.83,175.34,174.98,175.2,174.9,174.9,174.36,174.33,171.59,171.71,171.62,171.33,171.34,171.1,170.81,170.99,171.27,171.41,170.6,170.14,169.73,169.48,169.61,169.56,169.92,169.92,169.64,169.12,169.4,169.11,168.57,168.21,168.31,168.64,169.17,168.64,168.34,168.08,167.92,167.84,168.07,168.4,168.51,168.29,167.71,167.69,168.31,168.98,169.03,170.06,170.43,170.52,170.27,170.21,170.32,170.42,170.36,170.55,170.88,171.0,171.53,170.56,170.31,170.6,171.14,171.65,171.84,171.63,172.12,172.41,172.6,172.27,172.4,173.44,173.78,173.89,174.18,174.04,173.43,174.08,174.09,173.23,172.77,172.28,172.54,172.08,172.09,171.31,171.31,170.55,170.5,170.53,169.95,169.88,169.71,169.57,169.74,169.86,169.87,169.53,169.31,168.95,169.21,169.92,170.1,170.26,169.66,169.67,169.42,168.81,168.65,168.41,166.84,165.72,165.38,165.03,165.33,164.37,164.48,164.95,164.42,164.34,165.14,165.61,165.8,165.16,165.39,166.01,165.87,166.25,167.31,169.01,168.46,169.17,169.61,168.23,163.38,162.02,162.01,161.14,160.9,160.56,160.68,160.76,159.77,159.07,159.06,158.73,158.08,157.65,156.05,156.37,156.9,157.71,158.12,157.62,156.84,156.4,156.26,154.93,154.27,154.51,154.63,154.71,153.29,153.25,153.28,153.05,153.11,154.18,154.82,154.02,153.43,153.23,152.66,152.44,152.15,150.81,150.49,151.5,151.87,153.61,153.65,152.99,152.33,151.89,152.48,153.16,152.85,152.77,153.48,153.19,153.22,152.36,151.34,150.78,150.06,149.57,148.91,148.68,148.87,147.32,146.61,144.19,142.29,142.25],\"open\":[161.78,161.26,161.44,161.7,161.64,161.67,161.0,161.38,160.42,160.59,160.46,160.78,160.62,160.42,160.55,160.7,160.85,160.57,160.15,159.59,158.74,158.96,158.55,158.17,157.67,158.96,158.68,157.92,158.05,157.75,158.03,158.25,157.65,157.76,158.49,158.17,158.41,158.24,158.68,159.65,159.45,159.24,159.45,159.9,160.0,159.54,159.43,159.4,157.15,157.0,157.25,157.62,157.85,158.24,158.16,158.12,158.0,158.09,158.9,158.87,158.77,159.3,159.24,159.57,159.28,159.22,159.24,159.44,159.34,159.17,159.4,159.29,159.24,159.09,159.26,159.03,158.28,157.88,157.88,157.88,157.79,158.38,158.64,158.68,158.65,159.14,159.1,159.25,158.79,158.84,158.92,158.98,158.13,157.9,158.02,157.82,158.64,159.38,159.06,159.7,160.09,160.75,161.86,163.04,161.75,161.67,161.24,160.82,161.06,160.12,160.23,160.22,159.84,159.8,160.0,160.88,161.17,161.49,161.43,161.31,162.15,162.34,162.05,162.09,162.42,162.15,162.57,162.41,162.6,162.37,162.5,162.67,162.49,162.59,162.55,162.68,162.97,162.59,162.75,162.78,163.16,162.41,162.03,162.34,161.95,162.05,162.13,161.9,161.42,161.16,161.37,162.01,162.23,162.04,162.27,162.69,163.46,163.35,163.33,163.41,163.53,163.65,163.6,163.36,163.22,163.01,163.17,162.67,162.62,162.28,162.92,163.19,163.21,162.88,162.48,160.42,159.94,159.67,159.35,159.71,159.5,159.28,159.07,158.67,158.73,158.75,159.03,158.21,157.92,158.56,158.54,158.74,159.06,159.17,157.99,158.03,157.56,157.95,158.1,158.33,158.16,158.66,158.49,158.73,158.89,159.78,159.07,159.55,159.67,160.29,160.32,160.62,160.35,160.2,160.23,159.72,159.6,159.71,159.82,159.29,159.43,159.95,160.19,160.36,160.14,160.54,160.73,160.64,160.71,160.7,160.65,160.93,160.9,161.0,161.0,161.31,161.01,161.91,162.28,162.3,163.23,163.49,163.24,163.35,162.77,162.89,163.28,163.29,163.48,163.74,163.54,163.18,163.64,163.7,164.91,165.01,163.93,163.76,163.71,163.93,164.25,164.51,164.62,164.8,164.72,164.28,164.2,164.25,164.65,164.72,165.35,165.19,164.94,165.24,165.52,165.73,165.61,165.4,165.42,165.59,166.39,166.68,166.26,166.0,166.22,166.55,166.53,166.42,166.45,166.6,166.17,166.56,166.5,166.35,165.71,165.33,165.19,165.67,165.8,166.15,164.44,164.61,164.25,164.56,164.21,164.22,164.22,164.22,163.89,164.39,164.65,165.58,165.79,165.79,166.54,166.26,166.21,165.7,165.93,165.28,165.35,165.38,165.29,165.54,165.82,165.64,164.59,164.65,164.5,164.42,165.12,165.01,164.99,165.7,165.77,165.8,165.48,165.16,165.12,165.51,165.59,166.06,166.14,166.12,166.33,166.51,166.66,167.06,167.04,166.98,166.74,166.52,166.91,167.28,167.35,167.55,167.91,167.84,168.33,168.59,168.48,168.5,168.72,171.3,171.55,171.11,171.38,171.45,171.63,171.71,171.54,172.67,172.59,172.55,172.02,172.45,172.76,172.36,172.67,172.57,173.3,173.59,173.72,173.94,173.41,173.35,173.05,172.54,171.55,171.74,172.33,172.47,173.12,173.47,173.39,173.61,173.78,174.26,174.25,174.32,174.43,174.61,175.03,175.72,175.98,176.61,176.75,177.0,177.5,177.15,177.5,177.71,178.4,179.39,178.72,178.19,178.76,178.73,178.01,179.08,178.51,179.0,179.2,178.91,179.18,178.89,178.97,178.57,177.35,175.21,174.31,173.8,174.03,173.52,172.51,172.99,172.87,173.07,173.32,173.6,174.19,174.88,174.11,174.35,174.35,174.23,173.86,173.88,174.53,174.54,174.24,174.52,174.06,172.67,172.38,172.57,171.72,171.64,171.73,171.45,170.88,171.68,171.55,171.67,171.26,170.68,171.05,171.24,171.84,171.47,170.9,170.45,170.87,169.4,169.64,169.67,169.75,170.26,170.92,170.89,170.84,171.0,171.24,170.65,171.15,171.04,171.3,171.42,171.29,170.99,170.02,171.06,170.7,170.37,172.1,172.34,172.31,172.7,171.23,172.16,172.03,172.11,171.6,171.26,171.56,171.69,171.58,170.54,171.1,172.45,172.21,172.5,171.31,171.31,171.36,170.74,171.05,171.62,171.66,171.76,171.75,172.04,172.41,172.82,173.75,174.11,173.66,174.23,174.29,175.1,175.06,174.33,173.71,173.87,174.33,174.48,174.17,174.16,174.29,174.35,174.51,174.41,174.55,174.98,175.39,175.37,175.88,175.99,176.52,177.82,177.41,178.23,177.55,179.02,177.21,177.55,177.07,176.81,176.32,174.6,172.0,171.39,170.01,168.53,170.69,171.13,170.5,169.69,170.95,172.94,172.84,172.7,172.56,171.96,171.85,171.81,170.79,170.12,170.47,171.42,172.43,172.44,172.65,172.54,172.71,171.85,172.38,172.68,172.4,172.75,172.95,174.37,174.13,174.15,173.49,173.87,173.47,173.18,173.55,173.56,173.62,173.75,172.82,172.76,172.89,173.11,173.05,173.11,172.28,171.82,172.15,172.37,171.92,171.66,171.04,170.55,170.13,173.61,173.47,174.28,175.25,175.62,175.22,175.34,175.28,175.61,175.74,175.85,175.53,176.11,176.39,176.75,176.58,176.15,175.19,175.98,175.88,176.07,176.11,176.01,176.41,176.48,175.98,176.03,176.17,176.41,176.19,176.24,176.37,176.79,176.77,176.06,176.51,177.15,177.0,177.71,177.44,177.31,177.96,177.02,177.38,177.16,177.39,176.86,176.43,175.26,175.61,176.14,176.47,176.58,176.87,177.21,176.95,176.0,175.94,175.29,175.63,175.46,176.12,176.74,176.93,176.47,176.52,174.34,173.61,173.66,174.02,174.05,174.12,174.05,174.07,174.08,174.56,174.38,174.43,174.27,174.58,174.63,174.81,174.5,174.61,174.67,174.18,174.58,174.1,174.52,174.74,174.88,175.07,175.37,175.82,176.01,176.1,175.67,175.54,175.2,175.5,175.45,176.08,176.03,176.18,176.25,176.29,175.71,176.52,176.42,176.09,174.54,174.01,174.42,174.91,174.94,174.94,175.28,175.2,175.45,175.7,175.37,175.1,175.18,175.59,175.63,175.32,174.56,174.63,175.15,175.03,175.37,178.08,178.3,178.27,178.37,178.37,178.28,177.6,177.74,177.83,177.7,178.07,177.36,177.35,177.6,177.73,177.84,177.78,178.22,177.85,177.47,177.33,177.28,176.83,176.84,177.49,177.65,177.71,177.31,177.33,177.41,176.76,177.13,177.82,177.56,177.64,177.58,177.36,177.13,176.6,176.35,176.28,175.96,176.1,176.07,176.27,176.39,175.65,175.24,174.45,175.12,174.64,173.95,174.57,174.49,174.21,172.11,174.02,174.75,174.93,173.79,173.69,173.95,170.93,171.38,171.43,171.62,171.32,171.77,171.68,171.44,170.96,171.3,171.54,172.19,172.3,172.56,172.08,171.53,171.14,171.1,171.73,171.55,171.67,171.67,171.98,171.25,171.22,171.57,170.66,171.28,170.94,170.38,170.82,171.02,171.02,170.75,170.75,170.59,170.61,169.79,169.98,170.15,170.62,170.57,170.43,170.18,170.13,169.42,168.8,169.02,169.13,168.83,168.76,168.63,168.82,169.18,169.37,169.88,170.3,169.81,169.87,170.06,169.92,170.17,169.9,170.29,170.15,172.11,172.55,172.87,172.91,172.62,172.3,171.97,172.47,172.69,172.12,172.02,172.21,172.24,171.79,172.25,172.13,172.5,172.62,173.12,172.72,173.6,174.16,174.16,173.91,174.05,173.72,174.55,174.86,175.15,175.48,175.77,175.54,175.9,176.0,175.88,176.27,176.57,176.54,176.55,176.82,177.01,177.16,177.2,176.45,176.6,176.55,176.76,176.52,176.86,176.75,176.81,177.01,177.02,177.1,176.93,176.77,175.91,175.86,176.11,176.46,175.35,175.23,175.42,175.09,175.1,174.44,171.69,172.44,171.71,171.7,171.86,171.48,171.2,171.01,171.7,171.69,171.67,170.59,170.33,170.25,169.65,170.12,170.03,170.45,170.17,169.63,169.53,169.55,169.1,168.83,168.34,168.86,169.84,169.22,169.08,168.26,168.5,167.9,168.44,168.56,168.78,169.61,168.95,168.18,168.39,169.25,169.17,170.16,171.1,170.6,171.26,170.41,170.5,171.01,170.54,170.62,170.94,171.21,172.19,171.68,170.74,170.6,171.19,172.03,171.99,172.19,172.47,172.83,172.92,172.69,172.54,173.59,174.13,173.91,174.64,174.39,174.09,174.25,174.74,174.23,173.47,173.17,172.54,172.48,172.36,172.31,171.42,171.36,170.69,170.75,170.53,170.45,169.96,169.92,169.87,170.08,170.83,169.8,169.67,169.3,169.28,170.0,170.23,170.62,170.34,169.78,170.21,169.91,169.03,168.81,168.76,166.89,166.07,165.71,165.33,165.8,164.71,165.89,165.44,164.75,165.35,166.2,166.77,166.92,165.65,166.18,166.63,167.03,167.75,170.45,169.55,169.54,171.35,169.71,164.96,163.63,162.94,162.46,161.34,161.63,161.16,161.19,161.26,159.99,159.39,160.05,159.15,158.47,158.22,157.53,157.04,158.55,158.5,159.31,157.76,157.59,157.01,156.13,154.75,155.1,155.48,154.71,154.55,153.44,154.57,153.47,153.14,154.77,155.45,155.35,154.44,153.61,153.34,152.86,153.6,152.55,151.01,151.93,152.64,153.85,155.06,153.88,153.72,152.58,153.07,153.6,153.82,153.1,153.55,153.86,153.31,153.48,152.5,151.53,150.99,150.13,149.75,148.99,149.15,148.69,147.74,146.71,144.65,142.73],\"x\":[0,1,2,3,4,5,6,7,8,9,10,11,12,13,14,15,16,17,18,19,20,21,22,23,24,25,26,27,28,29,30,31,32,33,34,35,36,37,38,39,40,41,42,43,44,45,46,47,48,49,50,51,52,53,54,55,56,57,58,59,60,61,62,63,64,65,66,67,68,69,70,71,72,73,74,75,76,77,78,79,80,81,82,83,84,85,86,87,88,89,90,91,92,93,94,95,96,97,98,99,100,101,102,103,104,105,106,107,108,109,110,111,112,113,114,115,116,117,118,119,120,121,122,123,124,125,126,127,128,129,130,131,132,133,134,135,136,137,138,139,140,141,142,143,144,145,146,147,148,149,150,151,152,153,154,155,156,157,158,159,160,161,162,163,164,165,166,167,168,169,170,171,172,173,174,175,176,177,178,179,180,181,182,183,184,185,186,187,188,189,190,191,192,193,194,195,196,197,198,199,200,201,202,203,204,205,206,207,208,209,210,211,212,213,214,215,216,217,218,219,220,221,222,223,224,225,226,227,228,229,230,231,232,233,234,235,236,237,238,239,240,241,242,243,244,245,246,247,248,249,250,251,252,253,254,255,256,257,258,259,260,261,262,263,264,265,266,267,268,269,270,271,272,273,274,275,276,277,278,279,280,281,282,283,284,285,286,287,288,289,290,291,292,293,294,295,296,297,298,299,300,301,302,303,304,305,306,307,308,309,310,311,312,313,314,315,316,317,318,319,320,321,322,323,324,325,326,327,328,329,330,331,332,333,334,335,336,337,338,339,340,341,342,343,344,345,346,347,348,349,350,351,352,353,354,355,356,357,358,359,360,361,362,363,364,365,366,367,368,369,370,371,372,373,374,375,376,377,378,379,380,381,382,383,384,385,386,387,388,389,390,391,392,393,394,395,396,397,398,399,400,401,402,403,404,405,406,407,408,409,410,411,412,413,414,415,416,417,418,419,420,421,422,423,424,425,426,427,428,429,430,431,432,433,434,435,436,437,438,439,440,441,442,443,444,445,446,447,448,449,450,451,452,453,454,455,456,457,458,459,460,461,462,463,464,465,466,467,468,469,470,471,472,473,474,475,476,477,478,479,480,481,482,483,484,485,486,487,488,489,490,491,492,493,494,495,496,497,498,499,500,501,502,503,504,505,506,507,508,509,510,511,512,513,514,515,516,517,518,519,520,521,522,523,524,525,526,527,528,529,530,531,532,533,534,535,536,537,538,539,540,541,542,543,544,545,546,547,548,549,550,551,552,553,554,555,556,557,558,559,560,561,562,563,564,565,566,567,568,569,570,571,572,573,574,575,576,577,578,579,580,581,582,583,584,585,586,587,588,589,590,591,592,593,594,595,596,597,598,599,600,601,602,603,604,605,606,607,608,609,610,611,612,613,614,615,616,617,618,619,620,621,622,623,624,625,626,627,628,629,630,631,632,633,634,635,636,637,638,639,640,641,642,643,644,645,646,647,648,649,650,651,652,653,654,655,656,657,658,659,660,661,662,663,664,665,666,667,668,669,670,671,672,673,674,675,676,677,678,679,680,681,682,683,684,685,686,687,688,689,690,691,692,693,694,695,696,697,698,699,700,701,702,703,704,705,706,707,708,709,710,711,712,713,714,715,716,717,718,719,720,721,722,723,724,725,726,727,728,729,730,731,732,733,734,735,736,737,738,739,740,741,742,743,744,745,746,747,748,749,750,751,752,753,754,755,756,757,758,759,760,761,762,763,764,765,766,767,768,769,770,771,772,773,774,775,776,777,778,779,780,781,782,783,784,785,786,787,788,789,790,791,792,793,794,795,796,797,798,799,800,801,802,803,804,805,806,807,808,809,810,811,812,813,814,815,816,817,818,819,820,821,822,823,824,825,826,827,828,829,830,831,832,833,834,835,836,837,838,839,840,841,842,843,844,845,846,847,848,849,850,851,852,853,854,855,856,857,858,859,860,861,862,863,864,865,866,867,868,869,870,871,872,873,874,875,876,877,878,879,880,881,882,883,884,885,886,887,888,889,890,891,892,893,894,895,896,897,898,899,900,901,902,903,904,905,906,907,908,909,910,911,912,913,914,915,916,917,918,919,920,921,922,923,924,925,926,927,928,929,930,931,932,933,934,935,936,937,938,939,940,941,942,943,944,945,946,947,948,949,950,951,952,953,954,955,956,957,958,959,960,961,962,963,964,965,966,967,968,969,970,971,972,973,974,975,976,977,978,979,980,981,982,983,984,985,986,987,988,989,990,991,992,993,994,995,996,997,998,999,1000,1001,1002,1003,1004,1005,1006,1007,1008,1009,1010,1011,1012,1013,1014,1015,1016,1017,1018,1019,1020,1021,1022,1023,1024,1025,1026,1027,1028,1029,1030,1031,1032,1033,1034,1035,1036,1037,1038,1039,1040,1041,1042,1043,1044,1045,1046,1047,1048,1049,1050,1051,1052,1053,1054,1055,1056,1057,1058,1059,1060,1061,1062,1063,1064,1065,1066,1067,1068,1069,1070,1071,1072,1073,1074,1075,1076,1077,1078,1079,1080,1081,1082,1083,1084,1085,1086,1087,1088,1089,1090,1091,1092,1093,1094,1095,1096,1097,1098,1099,1100,1101,1102,1103,1104,1105,1106,1107,1108,1109,1110,1111,1112,1113,1114,1115,1116,1117,1118,1119,1120,1121,1122,1123,1124,1125,1126,1127,1128,1129,1130,1131,1132,1133,1134,1135,1136,1137,1138],\"type\":\"candlestick\"}],                        {\"template\":{\"data\":{\"bar\":[{\"error_x\":{\"color\":\"#2a3f5f\"},\"error_y\":{\"color\":\"#2a3f5f\"},\"marker\":{\"line\":{\"color\":\"#E5ECF6\",\"width\":0.5},\"pattern\":{\"fillmode\":\"overlay\",\"size\":10,\"solidity\":0.2}},\"type\":\"bar\"}],\"barpolar\":[{\"marker\":{\"line\":{\"color\":\"#E5ECF6\",\"width\":0.5},\"pattern\":{\"fillmode\":\"overlay\",\"size\":10,\"solidity\":0.2}},\"type\":\"barpolar\"}],\"carpet\":[{\"aaxis\":{\"endlinecolor\":\"#2a3f5f\",\"gridcolor\":\"white\",\"linecolor\":\"white\",\"minorgridcolor\":\"white\",\"startlinecolor\":\"#2a3f5f\"},\"baxis\":{\"endlinecolor\":\"#2a3f5f\",\"gridcolor\":\"white\",\"linecolor\":\"white\",\"minorgridcolor\":\"white\",\"startlinecolor\":\"#2a3f5f\"},\"type\":\"carpet\"}],\"choropleth\":[{\"colorbar\":{\"outlinewidth\":0,\"ticks\":\"\"},\"type\":\"choropleth\"}],\"contour\":[{\"colorbar\":{\"outlinewidth\":0,\"ticks\":\"\"},\"colorscale\":[[0.0,\"#0d0887\"],[0.1111111111111111,\"#46039f\"],[0.2222222222222222,\"#7201a8\"],[0.3333333333333333,\"#9c179e\"],[0.4444444444444444,\"#bd3786\"],[0.5555555555555556,\"#d8576b\"],[0.6666666666666666,\"#ed7953\"],[0.7777777777777778,\"#fb9f3a\"],[0.8888888888888888,\"#fdca26\"],[1.0,\"#f0f921\"]],\"type\":\"contour\"}],\"contourcarpet\":[{\"colorbar\":{\"outlinewidth\":0,\"ticks\":\"\"},\"type\":\"contourcarpet\"}],\"heatmap\":[{\"colorbar\":{\"outlinewidth\":0,\"ticks\":\"\"},\"colorscale\":[[0.0,\"#0d0887\"],[0.1111111111111111,\"#46039f\"],[0.2222222222222222,\"#7201a8\"],[0.3333333333333333,\"#9c179e\"],[0.4444444444444444,\"#bd3786\"],[0.5555555555555556,\"#d8576b\"],[0.6666666666666666,\"#ed7953\"],[0.7777777777777778,\"#fb9f3a\"],[0.8888888888888888,\"#fdca26\"],[1.0,\"#f0f921\"]],\"type\":\"heatmap\"}],\"heatmapgl\":[{\"colorbar\":{\"outlinewidth\":0,\"ticks\":\"\"},\"colorscale\":[[0.0,\"#0d0887\"],[0.1111111111111111,\"#46039f\"],[0.2222222222222222,\"#7201a8\"],[0.3333333333333333,\"#9c179e\"],[0.4444444444444444,\"#bd3786\"],[0.5555555555555556,\"#d8576b\"],[0.6666666666666666,\"#ed7953\"],[0.7777777777777778,\"#fb9f3a\"],[0.8888888888888888,\"#fdca26\"],[1.0,\"#f0f921\"]],\"type\":\"heatmapgl\"}],\"histogram\":[{\"marker\":{\"pattern\":{\"fillmode\":\"overlay\",\"size\":10,\"solidity\":0.2}},\"type\":\"histogram\"}],\"histogram2d\":[{\"colorbar\":{\"outlinewidth\":0,\"ticks\":\"\"},\"colorscale\":[[0.0,\"#0d0887\"],[0.1111111111111111,\"#46039f\"],[0.2222222222222222,\"#7201a8\"],[0.3333333333333333,\"#9c179e\"],[0.4444444444444444,\"#bd3786\"],[0.5555555555555556,\"#d8576b\"],[0.6666666666666666,\"#ed7953\"],[0.7777777777777778,\"#fb9f3a\"],[0.8888888888888888,\"#fdca26\"],[1.0,\"#f0f921\"]],\"type\":\"histogram2d\"}],\"histogram2dcontour\":[{\"colorbar\":{\"outlinewidth\":0,\"ticks\":\"\"},\"colorscale\":[[0.0,\"#0d0887\"],[0.1111111111111111,\"#46039f\"],[0.2222222222222222,\"#7201a8\"],[0.3333333333333333,\"#9c179e\"],[0.4444444444444444,\"#bd3786\"],[0.5555555555555556,\"#d8576b\"],[0.6666666666666666,\"#ed7953\"],[0.7777777777777778,\"#fb9f3a\"],[0.8888888888888888,\"#fdca26\"],[1.0,\"#f0f921\"]],\"type\":\"histogram2dcontour\"}],\"mesh3d\":[{\"colorbar\":{\"outlinewidth\":0,\"ticks\":\"\"},\"type\":\"mesh3d\"}],\"parcoords\":[{\"line\":{\"colorbar\":{\"outlinewidth\":0,\"ticks\":\"\"}},\"type\":\"parcoords\"}],\"pie\":[{\"automargin\":true,\"type\":\"pie\"}],\"scatter\":[{\"marker\":{\"colorbar\":{\"outlinewidth\":0,\"ticks\":\"\"}},\"type\":\"scatter\"}],\"scatter3d\":[{\"line\":{\"colorbar\":{\"outlinewidth\":0,\"ticks\":\"\"}},\"marker\":{\"colorbar\":{\"outlinewidth\":0,\"ticks\":\"\"}},\"type\":\"scatter3d\"}],\"scattercarpet\":[{\"marker\":{\"colorbar\":{\"outlinewidth\":0,\"ticks\":\"\"}},\"type\":\"scattercarpet\"}],\"scattergeo\":[{\"marker\":{\"colorbar\":{\"outlinewidth\":0,\"ticks\":\"\"}},\"type\":\"scattergeo\"}],\"scattergl\":[{\"marker\":{\"colorbar\":{\"outlinewidth\":0,\"ticks\":\"\"}},\"type\":\"scattergl\"}],\"scattermapbox\":[{\"marker\":{\"colorbar\":{\"outlinewidth\":0,\"ticks\":\"\"}},\"type\":\"scattermapbox\"}],\"scatterpolar\":[{\"marker\":{\"colorbar\":{\"outlinewidth\":0,\"ticks\":\"\"}},\"type\":\"scatterpolar\"}],\"scatterpolargl\":[{\"marker\":{\"colorbar\":{\"outlinewidth\":0,\"ticks\":\"\"}},\"type\":\"scatterpolargl\"}],\"scatterternary\":[{\"marker\":{\"colorbar\":{\"outlinewidth\":0,\"ticks\":\"\"}},\"type\":\"scatterternary\"}],\"surface\":[{\"colorbar\":{\"outlinewidth\":0,\"ticks\":\"\"},\"colorscale\":[[0.0,\"#0d0887\"],[0.1111111111111111,\"#46039f\"],[0.2222222222222222,\"#7201a8\"],[0.3333333333333333,\"#9c179e\"],[0.4444444444444444,\"#bd3786\"],[0.5555555555555556,\"#d8576b\"],[0.6666666666666666,\"#ed7953\"],[0.7777777777777778,\"#fb9f3a\"],[0.8888888888888888,\"#fdca26\"],[1.0,\"#f0f921\"]],\"type\":\"surface\"}],\"table\":[{\"cells\":{\"fill\":{\"color\":\"#EBF0F8\"},\"line\":{\"color\":\"white\"}},\"header\":{\"fill\":{\"color\":\"#C8D4E3\"},\"line\":{\"color\":\"white\"}},\"type\":\"table\"}]},\"layout\":{\"annotationdefaults\":{\"arrowcolor\":\"#2a3f5f\",\"arrowhead\":0,\"arrowwidth\":1},\"autotypenumbers\":\"strict\",\"coloraxis\":{\"colorbar\":{\"outlinewidth\":0,\"ticks\":\"\"}},\"colorscale\":{\"diverging\":[[0,\"#8e0152\"],[0.1,\"#c51b7d\"],[0.2,\"#de77ae\"],[0.3,\"#f1b6da\"],[0.4,\"#fde0ef\"],[0.5,\"#f7f7f7\"],[0.6,\"#e6f5d0\"],[0.7,\"#b8e186\"],[0.8,\"#7fbc41\"],[0.9,\"#4d9221\"],[1,\"#276419\"]],\"sequential\":[[0.0,\"#0d0887\"],[0.1111111111111111,\"#46039f\"],[0.2222222222222222,\"#7201a8\"],[0.3333333333333333,\"#9c179e\"],[0.4444444444444444,\"#bd3786\"],[0.5555555555555556,\"#d8576b\"],[0.6666666666666666,\"#ed7953\"],[0.7777777777777778,\"#fb9f3a\"],[0.8888888888888888,\"#fdca26\"],[1.0,\"#f0f921\"]],\"sequentialminus\":[[0.0,\"#0d0887\"],[0.1111111111111111,\"#46039f\"],[0.2222222222222222,\"#7201a8\"],[0.3333333333333333,\"#9c179e\"],[0.4444444444444444,\"#bd3786\"],[0.5555555555555556,\"#d8576b\"],[0.6666666666666666,\"#ed7953\"],[0.7777777777777778,\"#fb9f3a\"],[0.8888888888888888,\"#fdca26\"],[1.0,\"#f0f921\"]]},\"colorway\":[\"#636efa\",\"#EF553B\",\"#00cc96\",\"#ab63fa\",\"#FFA15A\",\"#19d3f3\",\"#FF6692\",\"#B6E880\",\"#FF97FF\",\"#FECB52\"],\"font\":{\"color\":\"#2a3f5f\"},\"geo\":{\"bgcolor\":\"white\",\"lakecolor\":\"white\",\"landcolor\":\"#E5ECF6\",\"showlakes\":true,\"showland\":true,\"subunitcolor\":\"white\"},\"hoverlabel\":{\"align\":\"left\"},\"hovermode\":\"closest\",\"mapbox\":{\"style\":\"light\"},\"paper_bgcolor\":\"white\",\"plot_bgcolor\":\"#E5ECF6\",\"polar\":{\"angularaxis\":{\"gridcolor\":\"white\",\"linecolor\":\"white\",\"ticks\":\"\"},\"bgcolor\":\"#E5ECF6\",\"radialaxis\":{\"gridcolor\":\"white\",\"linecolor\":\"white\",\"ticks\":\"\"}},\"scene\":{\"xaxis\":{\"backgroundcolor\":\"#E5ECF6\",\"gridcolor\":\"white\",\"gridwidth\":2,\"linecolor\":\"white\",\"showbackground\":true,\"ticks\":\"\",\"zerolinecolor\":\"white\"},\"yaxis\":{\"backgroundcolor\":\"#E5ECF6\",\"gridcolor\":\"white\",\"gridwidth\":2,\"linecolor\":\"white\",\"showbackground\":true,\"ticks\":\"\",\"zerolinecolor\":\"white\"},\"zaxis\":{\"backgroundcolor\":\"#E5ECF6\",\"gridcolor\":\"white\",\"gridwidth\":2,\"linecolor\":\"white\",\"showbackground\":true,\"ticks\":\"\",\"zerolinecolor\":\"white\"}},\"shapedefaults\":{\"line\":{\"color\":\"#2a3f5f\"}},\"ternary\":{\"aaxis\":{\"gridcolor\":\"white\",\"linecolor\":\"white\",\"ticks\":\"\"},\"baxis\":{\"gridcolor\":\"white\",\"linecolor\":\"white\",\"ticks\":\"\"},\"bgcolor\":\"#E5ECF6\",\"caxis\":{\"gridcolor\":\"white\",\"linecolor\":\"white\",\"ticks\":\"\"}},\"title\":{\"x\":0.05},\"xaxis\":{\"automargin\":true,\"gridcolor\":\"white\",\"linecolor\":\"white\",\"ticks\":\"\",\"title\":{\"standoff\":15},\"zerolinecolor\":\"white\",\"zerolinewidth\":2},\"yaxis\":{\"automargin\":true,\"gridcolor\":\"white\",\"linecolor\":\"white\",\"ticks\":\"\",\"title\":{\"standoff\":15},\"zerolinecolor\":\"white\",\"zerolinewidth\":2}}}},                        {\"responsive\": true}                    ).then(function(){\n",
              "                            \n",
              "var gd = document.getElementById('1b86e8fe-45e5-414a-b018-24dd2e3ee709');\n",
              "var x = new MutationObserver(function (mutations, observer) {{\n",
              "        var display = window.getComputedStyle(gd).display;\n",
              "        if (!display || display === 'none') {{\n",
              "            console.log([gd, 'removed!']);\n",
              "            Plotly.purge(gd);\n",
              "            observer.disconnect();\n",
              "        }}\n",
              "}});\n",
              "\n",
              "// Listen for the removal of the full notebook cells\n",
              "var notebookContainer = gd.closest('#notebook-container');\n",
              "if (notebookContainer) {{\n",
              "    x.observe(notebookContainer, {childList: true});\n",
              "}}\n",
              "\n",
              "// Listen for the clearing of the current output cell\n",
              "var outputEl = gd.closest('.output');\n",
              "if (outputEl) {{\n",
              "    x.observe(outputEl, {childList: true});\n",
              "}}\n",
              "\n",
              "                        })                };                            </script>        </div>\n",
              "</body>\n",
              "</html>"
            ]
          },
          "metadata": {}
        }
      ]
    },
    {
      "cell_type": "code",
      "source": [],
      "metadata": {
        "id": "MuHNxuheCOLm"
      },
      "execution_count": null,
      "outputs": []
    },
    {
      "cell_type": "code",
      "source": [
        "-"
      ],
      "metadata": {
        "id": "U_XNmXA4Iq8Y"
      },
      "execution_count": null,
      "outputs": []
    }
  ]
}